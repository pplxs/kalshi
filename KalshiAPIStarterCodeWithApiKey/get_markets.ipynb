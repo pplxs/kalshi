{
 "cells": [
  {
   "cell_type": "code",
   "execution_count": 3,
   "metadata": {},
   "outputs": [],
   "source": [
    "from KalshiClientsBaseV2ApiKey import ExchangeClient\n",
    "import time\n",
    "import json\n",
    "import uuid\n",
    "import pandas as pd\n",
    "import numpy as np\n",
    "import re\n",
    "\n",
    "from cryptography.hazmat.primitives import serialization\n",
    "from cryptography.hazmat.backends import default_backend\n",
    "\n",
    "import requests\n",
    "from datetime import datetime\n",
    "import pytz\n",
    "import warnings\n",
    "warnings.filterwarnings('ignore')"
   ]
  },
  {
   "cell_type": "code",
   "execution_count": 4,
   "metadata": {},
   "outputs": [],
   "source": [
    "# 加载密钥\n",
    "def load_private_key_from_file(file_path):\n",
    "    with open(file_path, \"rb\") as key_file:\n",
    "        private_key = serialization.load_pem_private_key(\n",
    "            key_file.read(),\n",
    "            password=None,  # or provide a password if your key is encrypted\n",
    "            backend=default_backend()\n",
    "        )\n",
    "    return private_key"
   ]
  },
  {
   "cell_type": "code",
   "execution_count": 5,
   "metadata": {},
   "outputs": [
    {
     "name": "stdout",
     "output_type": "stream",
     "text": [
      "msg_string 1732238058018GET/trade-api/v2/exchange/status\n",
      "signature EY45L5ANEcBh545Obf1DQyCmLjf1CO6JwWmhiYhER+S6WAmE2xp1cBKIULI7QWQDkJYSlAQt0g4fLNJGqwpwvvE8nH+z8ZTLoUiDyHtYHLFb+VzEEGoffZA826WovcUz1z5bOA5d6tb9hw8GEu/0G8V3Hp3JRJlcVPQxd29EDaRQ5QdTlW9h2BRqDqE2h8vct7W/rddt21E8iHsSmOCgnkc3SMHZzCOpZiLcVNgCbds37PR9zQaCxn2/CdRN8+LvW+aL8LyhPUPw/YqASNP8eRWkBbdq9QpWhHR2RXDACLKf/CinR5QgQio97V8iz0J2Yhd/eJmZMoK6lPNhmRmK3g==\n"
     ]
    },
    {
     "data": {
      "text/plain": [
       "{'exchange_active': True, 'trading_active': True}"
      ]
     },
     "execution_count": 5,
     "metadata": {},
     "output_type": "execute_result"
    }
   ],
   "source": [
    "prod_key_id = \"e79af1da-54e5-46a3-9269-c2de1dc81de0\" \n",
    "prod_private_key = load_private_key_from_file('../kalshi-key.key')\n",
    "prod_api_base = \"https://api.elections.kalshi.com/trade-api/v2\"\n",
    "exchange_client = ExchangeClient(exchange_api_base=prod_api_base, key_id = prod_key_id, private_key = prod_private_key)\n",
    "exchange_client.get_exchange_status()"
   ]
  },
  {
   "cell_type": "markdown",
   "metadata": {},
   "source": [
    "# get event_ticker  series_ticker"
   ]
  },
  {
   "cell_type": "code",
   "execution_count": 6,
   "metadata": {},
   "outputs": [],
   "source": [
    "events_data = pd.read_csv('../data_events.csv')"
   ]
  },
  {
   "cell_type": "code",
   "execution_count": 7,
   "metadata": {},
   "outputs": [
    {
     "data": {
      "text/plain": [
       "True"
      ]
     },
     "execution_count": 7,
     "metadata": {},
     "output_type": "execute_result"
    }
   ],
   "source": [
    "len(set(events_data['event_ticker'].values)) == events_data.shape[0]"
   ]
  },
  {
   "cell_type": "code",
   "execution_count": 8,
   "metadata": {},
   "outputs": [
    {
     "data": {
      "text/plain": [
       "'JOBLESS-21AUG28'"
      ]
     },
     "execution_count": 8,
     "metadata": {},
     "output_type": "execute_result"
    }
   ],
   "source": [
    "event_ticker = events_data.loc[0,'event_ticker']\n",
    "event_ticker  # 某一个事件的ticker"
   ]
  },
  {
   "cell_type": "code",
   "execution_count": 9,
   "metadata": {},
   "outputs": [
    {
     "data": {
      "text/plain": [
       "'KXJOBLESS'"
      ]
     },
     "execution_count": 9,
     "metadata": {},
     "output_type": "execute_result"
    }
   ],
   "source": [
    "series_ticker = events_data.loc[0,'series_ticker']\n",
    "series_ticker  # 某一个类别的ticker,比如 Economics 类别"
   ]
  },
  {
   "cell_type": "markdown",
   "metadata": {},
   "source": [
    "# get Series"
   ]
  },
  {
   "cell_type": "code",
   "execution_count": 10,
   "metadata": {},
   "outputs": [
    {
     "name": "stdout",
     "output_type": "stream",
     "text": [
      "msg_string 1732238059357GET/trade-api/v2/series/KXJOBLESS\n",
      "signature OB5E244EYTzq0/3yRLE0coru0ucq0gR7CjuqaEUiLrxWjR1Ne/SzGCobLBHRNp+PLQLW2cozYFDKEzDLQVGQWw/dsi+idiRPMgKZvRhDsJQEmTR3yO+VYsHDQEFAXNYDVw3Tg6lY6x3oCPrU7Kjx+Dx4uM+qTWtC9q6t4jpdaCXY8qS5HAkiMC4x/SVoVGWa8vkr12SuadiNz/PddwZ3IcfS5sUWe37tgT9l3esU6sg6RI+muU1a4OJXl6JXYhAGLUzx1g9To2kIm8MfU1wPcJ7XkryFrTNxzlaQG+skfeFVwXpWZ+tIF8NiLQMgn6ZTazAiV4gqmpUCSaACZ5r4JA==\n"
     ]
    }
   ],
   "source": [
    "series = exchange_client.get_series(series_ticker=series_ticker)"
   ]
  },
  {
   "cell_type": "code",
   "execution_count": 11,
   "metadata": {},
   "outputs": [
    {
     "data": {
      "text/plain": [
       "{'series': {'ticker': 'KXJOBLESS',\n",
       "  'frequency': 'weekly',\n",
       "  'title': 'Initial jobless claims',\n",
       "  'category': 'Economics',\n",
       "  'tags': ['Employment'],\n",
       "  'settlement_sources': [{'url': 'https://www.dol.gov/ui/data.pdf',\n",
       "    'name': 'Department of Labor'}],\n",
       "  'contract_url': 'https://kalshi-public-docs.s3.us-east-1.amazonaws.com/regulatory/product-certifications/JOBS.pdf'}}"
      ]
     },
     "execution_count": 11,
     "metadata": {},
     "output_type": "execute_result"
    }
   ],
   "source": [
    "series"
   ]
  },
  {
   "cell_type": "markdown",
   "metadata": {},
   "source": [
    "# get_market"
   ]
  },
  {
   "cell_type": "code",
   "execution_count": 12,
   "metadata": {},
   "outputs": [
    {
     "name": "stdout",
     "output_type": "stream",
     "text": [
      "msg_string 1732238060317GET/trade-api/v2/markets/JOBLESS-21AUG28-C350\n",
      "signature olhsoV3XR3/TE2tA434VmkM2ehhsKFfSjO186rJghGA05/XQRclCrCKdnFLYSCDJ9uLDtudj7SA4snuwq3b/1rfahfS3ooNLpUgX5tZr4ddV/ssLfk0z8qZgvtaS0huEfXQbLw2udEet+1lGupatRcIGvUf3oPMLgwjmMOTv8HxuTIqaQLwZ9+WngAFsBBqx4jjKyfDgW+/rPX02RJqKleRtj5nGMfDrhfGHEfeliIEoG69u+rYPTae+ybkdHaoKJYDVUlnCnayEGMXEWkwlfFVkUneLiB5UF4/kDylT8wxYO/UPXkkO48e3byMharrtLRAPre8bw0IUT4TaATNIzQ==\n"
     ]
    },
    {
     "data": {
      "text/plain": [
       "{'market': {'ticker': 'JOBLESS-21AUG28-C350',\n",
       "  'event_ticker': 'JOBLESS-21AUG28',\n",
       "  'market_type': 'binary',\n",
       "  'title': 'Will initial jobless claims be higher than 350,000 for the week ending August 28, 2021?',\n",
       "  'subtitle': '>350K',\n",
       "  'yes_sub_title': 'Above 350,000',\n",
       "  'no_sub_title': '350,000 or below',\n",
       "  'open_time': '2021-08-26T20:30:00Z',\n",
       "  'close_time': '2021-09-01T23:00:00Z',\n",
       "  'expected_expiration_time': '2033-08-26T20:19:00Z',\n",
       "  'expiration_time': '2021-09-02T22:00:00Z',\n",
       "  'latest_expiration_time': '2021-09-02T22:00:00Z',\n",
       "  'settlement_timer_seconds': 0,\n",
       "  'status': 'finalized',\n",
       "  'response_price_units': 'usd_cent',\n",
       "  'notional_value': 100,\n",
       "  'tick_size': 1,\n",
       "  'yes_bid': 35,\n",
       "  'yes_ask': 38,\n",
       "  'no_bid': 62,\n",
       "  'no_ask': 65,\n",
       "  'last_price': 36,\n",
       "  'previous_yes_bid': 35,\n",
       "  'previous_yes_ask': 38,\n",
       "  'previous_price': 36,\n",
       "  'volume': 2698,\n",
       "  'volume_24h': 0,\n",
       "  'liquidity': 0,\n",
       "  'open_interest': 1771,\n",
       "  'result': 'no',\n",
       "  'settlement_value': 0,\n",
       "  'can_close_early': False,\n",
       "  'expiration_value': '',\n",
       "  'category': 'Economics',\n",
       "  'risk_limit_cents': 0,\n",
       "  'rules_primary': 'If initial jobless claims are greater than 350,000 for the week ending on August 28, 2021, then the market resolves to Yes.',\n",
       "  'rules_secondary': 'Please see JOBS in the Rulebook for more details.'}}"
      ]
     },
     "execution_count": 12,
     "metadata": {},
     "output_type": "execute_result"
    }
   ],
   "source": [
    "market = exchange_client.get_market(ticker='JOBLESS-21AUG28-C350')   # market ticker\n",
    "market"
   ]
  },
  {
   "cell_type": "markdown",
   "metadata": {},
   "source": [
    "# get_markets"
   ]
  },
  {
   "cell_type": "code",
   "execution_count": 13,
   "metadata": {},
   "outputs": [
    {
     "data": {
      "text/plain": [
       "'JOBLESS-21AUG28'"
      ]
     },
     "execution_count": 13,
     "metadata": {},
     "output_type": "execute_result"
    }
   ],
   "source": [
    "event_ticker\n",
    "# JOBLESS-21AUG28"
   ]
  },
  {
   "cell_type": "code",
   "execution_count": 14,
   "metadata": {},
   "outputs": [
    {
     "name": "stdout",
     "output_type": "stream",
     "text": [
      "msg_string 1732238061415GET/trade-api/v2/markets\n",
      "signature ZDhqXJD49tCbdCDO1QOqG6gBVEdvijz95YWggSSQ9yPPzzU/77f8hH4fPiMue5/kSTIACldopeoDvUsPKfJ8+rxmfDNcBb/LPCZ11Kg5OtHaVi4ppYHFtq0oQ3iV0mthwsgdwgQK2AcUnB4SEuWYXsKIaT6hS2tBx/lJd1CZ512+vqe87FTYEcl2qQpz385t9g84HM9o1Y85q2mIcwmGingKOY5LIXDc2J/6DTE44f+NwtFjCM5eXUvMYB6ReOs5VY+/YfOPDjY4CXAkXW6B5jyhw/2kLQ+vaiLH3kvsWsL9snREL+Cd/30GepHgPDUDvBiTXqmwBlig3Z4lxfBS0w==\n"
     ]
    },
    {
     "data": {
      "text/plain": [
       "[{'ticker': 'JOBLESS-21AUG28-C350',\n",
       "  'event_ticker': 'JOBLESS-21AUG28',\n",
       "  'market_type': 'binary',\n",
       "  'title': 'Will initial jobless claims be higher than 350,000 for the week ending August 28, 2021?',\n",
       "  'subtitle': '>350K',\n",
       "  'yes_sub_title': 'Above 350,000',\n",
       "  'no_sub_title': '350,000 or below',\n",
       "  'open_time': '2021-08-26T20:30:00Z',\n",
       "  'close_time': '2021-09-01T23:00:00Z',\n",
       "  'expected_expiration_time': '2033-08-26T20:19:00Z',\n",
       "  'expiration_time': '2021-09-02T22:00:00Z',\n",
       "  'latest_expiration_time': '2021-09-02T22:00:00Z',\n",
       "  'settlement_timer_seconds': 0,\n",
       "  'status': 'finalized',\n",
       "  'response_price_units': 'usd_cent',\n",
       "  'notional_value': 100,\n",
       "  'tick_size': 1,\n",
       "  'yes_bid': 35,\n",
       "  'yes_ask': 38,\n",
       "  'no_bid': 62,\n",
       "  'no_ask': 65,\n",
       "  'last_price': 36,\n",
       "  'previous_yes_bid': 35,\n",
       "  'previous_yes_ask': 38,\n",
       "  'previous_price': 36,\n",
       "  'volume': 2698,\n",
       "  'volume_24h': 0,\n",
       "  'liquidity': 0,\n",
       "  'open_interest': 1771,\n",
       "  'result': 'no',\n",
       "  'settlement_value': 0,\n",
       "  'can_close_early': False,\n",
       "  'expiration_value': '',\n",
       "  'category': 'Economics',\n",
       "  'risk_limit_cents': 0,\n",
       "  'rules_primary': 'If initial jobless claims are greater than 350,000 for the week ending on August 28, 2021, then the market resolves to Yes.',\n",
       "  'rules_secondary': 'Please see JOBS in the Rulebook for more details.'}]"
      ]
     },
     "execution_count": 14,
     "metadata": {},
     "output_type": "execute_result"
    }
   ],
   "source": [
    "exchange_client.get_markets(event_ticker=event_ticker)['markets']"
   ]
  },
  {
   "cell_type": "code",
   "execution_count": 15,
   "metadata": {},
   "outputs": [
    {
     "name": "stdout",
     "output_type": "stream",
     "text": [
      "msg_string 1732238062351GET/trade-api/v2/markets\n",
      "signature q7y2I2ZFibttYo9tvumV7YInEqBBfjTbB3Law4W5nXQiEDd8vcLibIQW8v4SAvnnbgbEKxeAAZ3qLki4X+3NiKvn0UYM8M7R2cHt9JbBAAiCjXJ56KwsYUlWao28SHEwBlH6EJbWvsJXDxLh3NhSP1D3I5ehAU/T1uLmxkl2LZ6rJdohG4nqi3nkjBklvohuHbOJMHkvBsaENlQE6v1PHHtSlM8hXeictecSEbfqOpjSGTxKbuc5a6WSSo6l5MqoqWldiyKcwp57uWu73Q775RxDH7zWPk1nAyW6RLn456sgEpxvPTe2nDboUEr00TeOt4uZ9b8vYmLzd58I/dTl0A==\n"
     ]
    },
    {
     "data": {
      "text/plain": [
       "1"
      ]
     },
     "execution_count": 15,
     "metadata": {},
     "output_type": "execute_result"
    }
   ],
   "source": [
    "len(exchange_client.get_markets(event_ticker=event_ticker)['markets'])"
   ]
  },
  {
   "cell_type": "code",
   "execution_count": 16,
   "metadata": {},
   "outputs": [],
   "source": [
    "# data_markets = pd.read_csv('../data_markets.csv')\n",
    "\n",
    "# # cursor = 0\n",
    "# while cursor != '':\n",
    "#     try:\n",
    "#         markets, cursor = exchange_client.get_markets(cursor=cursor)['markets'], exchange_client.get_markets(cursor=cursor)['cursor']\n",
    "#     except Exception as e:\n",
    "#         print(e)\n",
    "#         for _ in range(10):\n",
    "#             markets, cursor = exchange_client.get_markets(cursor=cursor)['markets'], exchange_client.get_markets(cursor=cursor)['cursor']\n",
    "#             if markets != []:\n",
    "#                 print('connection success!')\n",
    "#                 break\n",
    "#     finally:\n",
    "#         data_markets = pd.concat([data_markets,pd.DataFrame(markets)])\n",
    "\n",
    "# 很耗时"
   ]
  },
  {
   "cell_type": "code",
   "execution_count": 17,
   "metadata": {},
   "outputs": [],
   "source": [
    "# data_markets.shape"
   ]
  },
  {
   "cell_type": "code",
   "execution_count": 18,
   "metadata": {},
   "outputs": [],
   "source": [
    "# cursor"
   ]
  },
  {
   "cell_type": "code",
   "execution_count": 19,
   "metadata": {},
   "outputs": [],
   "source": [
    "# data_markets.to_csv('../data_markets.csv',index=False)"
   ]
  },
  {
   "cell_type": "code",
   "execution_count": 20,
   "metadata": {},
   "outputs": [],
   "source": [
    "data_markets = pd.read_csv('../data_markets.csv')"
   ]
  },
  {
   "cell_type": "code",
   "execution_count": 21,
   "metadata": {},
   "outputs": [
    {
     "data": {
      "text/html": [
       "<div>\n",
       "<style scoped>\n",
       "    .dataframe tbody tr th:only-of-type {\n",
       "        vertical-align: middle;\n",
       "    }\n",
       "\n",
       "    .dataframe tbody tr th {\n",
       "        vertical-align: top;\n",
       "    }\n",
       "\n",
       "    .dataframe thead th {\n",
       "        text-align: right;\n",
       "    }\n",
       "</style>\n",
       "<table border=\"1\" class=\"dataframe\">\n",
       "  <thead>\n",
       "    <tr style=\"text-align: right;\">\n",
       "      <th></th>\n",
       "      <th>ticker</th>\n",
       "      <th>event_ticker</th>\n",
       "      <th>market_type</th>\n",
       "      <th>title</th>\n",
       "      <th>subtitle</th>\n",
       "      <th>yes_sub_title</th>\n",
       "      <th>no_sub_title</th>\n",
       "      <th>open_time</th>\n",
       "      <th>close_time</th>\n",
       "      <th>expected_expiration_time</th>\n",
       "      <th>...</th>\n",
       "      <th>category</th>\n",
       "      <th>risk_limit_cents</th>\n",
       "      <th>rules_primary</th>\n",
       "      <th>rules_secondary</th>\n",
       "      <th>strike_type</th>\n",
       "      <th>custom_strike</th>\n",
       "      <th>floor_strike</th>\n",
       "      <th>cap_strike</th>\n",
       "      <th>settlement_value</th>\n",
       "      <th>fee_waiver_expiration_time</th>\n",
       "    </tr>\n",
       "  </thead>\n",
       "  <tbody>\n",
       "    <tr>\n",
       "      <th>0</th>\n",
       "      <td>KXRECESSAPPT-25-TG</td>\n",
       "      <td>KXRECESSAPPT-25</td>\n",
       "      <td>binary</td>\n",
       "      <td>Will Tulsi Gabbard be appointed to the Trump A...</td>\n",
       "      <td>NaN</td>\n",
       "      <td>Tulsi Gabbard</td>\n",
       "      <td>Tulsi Gabbard</td>\n",
       "      <td>2024-11-20T15:00:00Z</td>\n",
       "      <td>2025-08-01T14:00:00Z</td>\n",
       "      <td>2025-08-01T14:00:00Z</td>\n",
       "      <td>...</td>\n",
       "      <td>Politics</td>\n",
       "      <td>0</td>\n",
       "      <td>If Tulsi Gabbard is appointed to the Trump Adm...</td>\n",
       "      <td>NaN</td>\n",
       "      <td>NaN</td>\n",
       "      <td>NaN</td>\n",
       "      <td>NaN</td>\n",
       "      <td>NaN</td>\n",
       "      <td>NaN</td>\n",
       "      <td>NaN</td>\n",
       "    </tr>\n",
       "    <tr>\n",
       "      <th>1</th>\n",
       "      <td>KXRECESSAPPT-25-RFK</td>\n",
       "      <td>KXRECESSAPPT-25</td>\n",
       "      <td>binary</td>\n",
       "      <td>Will Robert F. Kennedy Jr. be appointed to the...</td>\n",
       "      <td>NaN</td>\n",
       "      <td>Robert F. Kennedy Jr.</td>\n",
       "      <td>Robert F. Kennedy Jr.</td>\n",
       "      <td>2024-11-20T15:00:00Z</td>\n",
       "      <td>2025-08-01T14:00:00Z</td>\n",
       "      <td>2025-08-01T14:00:00Z</td>\n",
       "      <td>...</td>\n",
       "      <td>Politics</td>\n",
       "      <td>0</td>\n",
       "      <td>If Robert F. Kennedy Jr. is appointed to the T...</td>\n",
       "      <td>NaN</td>\n",
       "      <td>NaN</td>\n",
       "      <td>NaN</td>\n",
       "      <td>NaN</td>\n",
       "      <td>NaN</td>\n",
       "      <td>NaN</td>\n",
       "      <td>NaN</td>\n",
       "    </tr>\n",
       "    <tr>\n",
       "      <th>2</th>\n",
       "      <td>KXRECESSAPPT-25-PH</td>\n",
       "      <td>KXRECESSAPPT-25</td>\n",
       "      <td>binary</td>\n",
       "      <td>Will Pete Hegseth be appointed to the Trump Ad...</td>\n",
       "      <td>NaN</td>\n",
       "      <td>Pete Hegseth</td>\n",
       "      <td>Pete Hegseth</td>\n",
       "      <td>2024-11-20T15:00:00Z</td>\n",
       "      <td>2025-08-01T14:00:00Z</td>\n",
       "      <td>2025-08-01T14:00:00Z</td>\n",
       "      <td>...</td>\n",
       "      <td>Politics</td>\n",
       "      <td>0</td>\n",
       "      <td>If Pete Hegseth is appointed to the Trump Admi...</td>\n",
       "      <td>NaN</td>\n",
       "      <td>NaN</td>\n",
       "      <td>NaN</td>\n",
       "      <td>NaN</td>\n",
       "      <td>NaN</td>\n",
       "      <td>NaN</td>\n",
       "      <td>NaN</td>\n",
       "    </tr>\n",
       "    <tr>\n",
       "      <th>3</th>\n",
       "      <td>KXRECESSAPPT-25-MG</td>\n",
       "      <td>KXRECESSAPPT-25</td>\n",
       "      <td>binary</td>\n",
       "      <td>Will Matt Gaetz be appointed to the Trump Admi...</td>\n",
       "      <td>NaN</td>\n",
       "      <td>Matt Gaetz</td>\n",
       "      <td>Matt Gaetz</td>\n",
       "      <td>2024-11-20T15:00:00Z</td>\n",
       "      <td>2025-08-01T14:00:00Z</td>\n",
       "      <td>2025-08-01T14:00:00Z</td>\n",
       "      <td>...</td>\n",
       "      <td>Politics</td>\n",
       "      <td>0</td>\n",
       "      <td>If Matt Gaetz is appointed to the Trump Admini...</td>\n",
       "      <td>NaN</td>\n",
       "      <td>NaN</td>\n",
       "      <td>NaN</td>\n",
       "      <td>NaN</td>\n",
       "      <td>NaN</td>\n",
       "      <td>NaN</td>\n",
       "      <td>NaN</td>\n",
       "    </tr>\n",
       "  </tbody>\n",
       "</table>\n",
       "<p>4 rows × 42 columns</p>\n",
       "</div>"
      ],
      "text/plain": [
       "                ticker     event_ticker market_type  \\\n",
       "0   KXRECESSAPPT-25-TG  KXRECESSAPPT-25      binary   \n",
       "1  KXRECESSAPPT-25-RFK  KXRECESSAPPT-25      binary   \n",
       "2   KXRECESSAPPT-25-PH  KXRECESSAPPT-25      binary   \n",
       "3   KXRECESSAPPT-25-MG  KXRECESSAPPT-25      binary   \n",
       "\n",
       "                                               title subtitle  \\\n",
       "0  Will Tulsi Gabbard be appointed to the Trump A...      NaN   \n",
       "1  Will Robert F. Kennedy Jr. be appointed to the...      NaN   \n",
       "2  Will Pete Hegseth be appointed to the Trump Ad...      NaN   \n",
       "3  Will Matt Gaetz be appointed to the Trump Admi...      NaN   \n",
       "\n",
       "           yes_sub_title           no_sub_title             open_time  \\\n",
       "0          Tulsi Gabbard          Tulsi Gabbard  2024-11-20T15:00:00Z   \n",
       "1  Robert F. Kennedy Jr.  Robert F. Kennedy Jr.  2024-11-20T15:00:00Z   \n",
       "2           Pete Hegseth           Pete Hegseth  2024-11-20T15:00:00Z   \n",
       "3             Matt Gaetz             Matt Gaetz  2024-11-20T15:00:00Z   \n",
       "\n",
       "             close_time expected_expiration_time  ...  category  \\\n",
       "0  2025-08-01T14:00:00Z     2025-08-01T14:00:00Z  ...  Politics   \n",
       "1  2025-08-01T14:00:00Z     2025-08-01T14:00:00Z  ...  Politics   \n",
       "2  2025-08-01T14:00:00Z     2025-08-01T14:00:00Z  ...  Politics   \n",
       "3  2025-08-01T14:00:00Z     2025-08-01T14:00:00Z  ...  Politics   \n",
       "\n",
       "  risk_limit_cents                                      rules_primary  \\\n",
       "0                0  If Tulsi Gabbard is appointed to the Trump Adm...   \n",
       "1                0  If Robert F. Kennedy Jr. is appointed to the T...   \n",
       "2                0  If Pete Hegseth is appointed to the Trump Admi...   \n",
       "3                0  If Matt Gaetz is appointed to the Trump Admini...   \n",
       "\n",
       "  rules_secondary strike_type  custom_strike  floor_strike  cap_strike  \\\n",
       "0             NaN         NaN            NaN           NaN         NaN   \n",
       "1             NaN         NaN            NaN           NaN         NaN   \n",
       "2             NaN         NaN            NaN           NaN         NaN   \n",
       "3             NaN         NaN            NaN           NaN         NaN   \n",
       "\n",
       "   settlement_value  fee_waiver_expiration_time  \n",
       "0               NaN                         NaN  \n",
       "1               NaN                         NaN  \n",
       "2               NaN                         NaN  \n",
       "3               NaN                         NaN  \n",
       "\n",
       "[4 rows x 42 columns]"
      ]
     },
     "execution_count": 21,
     "metadata": {},
     "output_type": "execute_result"
    }
   ],
   "source": [
    "data_markets[data_markets['event_ticker']=='KXRECESSAPPT-25']"
   ]
  },
  {
   "cell_type": "markdown",
   "metadata": {},
   "source": [
    "# get_market_history"
   ]
  },
  {
   "cell_type": "code",
   "execution_count": 22,
   "metadata": {},
   "outputs": [
    {
     "data": {
      "text/plain": [
       "'KXRECESSAPPT-25-TG'"
      ]
     },
     "execution_count": 22,
     "metadata": {},
     "output_type": "execute_result"
    }
   ],
   "source": [
    "data_markets.loc[0,'ticker']"
   ]
  },
  {
   "cell_type": "code",
   "execution_count": 23,
   "metadata": {},
   "outputs": [
    {
     "name": "stdout",
     "output_type": "stream",
     "text": [
      "msg_string 1732238067150GET/trade-api/v2/markets/KXRECESSAPPT-25-TG/history\n",
      "signature Pqp+0aemQeE6O+8AHrVj+4g4/VfAJVORhAKF3D2cqOsUXSwBpI901CJO6sF640oLgsFbRxMYpltJd0niJVRulds0XK8tZcRTXRG8qc+s4SMtwCuVgtJAxA2/1T9x7Iu/k82If+769xfl9a17NArvllN3pYT11IkdWjlOIyxSGoITSULhIv7DhtbveJirwhM+VH78D5aM8JAFnBBVE9hfkA5Po0sGY/QSe+X6QUX0hSJHx8oufC2IUZ74KlnzEkO1IVeiOPlkbTstneytbgWwgUQV0jEI/zHhvjN0/CNyPdBE+FNij/ctO5T8UERYjiQ2l62NqkR+FJ2VoSXydjIo0g==\n"
     ]
    },
    {
     "ename": "HttpError",
     "evalue": "HttpError(404 Not Found)",
     "output_type": "error",
     "traceback": [
      "\u001b[1;31m---------------------------------------------------------------------------\u001b[0m",
      "\u001b[1;31mHttpError\u001b[0m                                 Traceback (most recent call last)",
      "Cell \u001b[1;32mIn[23], line 14\u001b[0m\n\u001b[0;32m      1\u001b[0m \u001b[38;5;66;03m# param = {\u001b[39;00m\n\u001b[0;32m      2\u001b[0m \u001b[38;5;66;03m#     'ticker':'KXRECESSAPPT-25-TG',\u001b[39;00m\n\u001b[0;32m      3\u001b[0m \u001b[38;5;66;03m#     'limit':100\u001b[39;00m\n\u001b[1;32m   (...)\u001b[0m\n\u001b[0;32m     12\u001b[0m \n\u001b[0;32m     13\u001b[0m \u001b[38;5;66;03m# market_resp = exchange_client.get_market_history(ticker=data_markets.loc[0,'ticker'])\u001b[39;00m\n\u001b[1;32m---> 14\u001b[0m market_resp \u001b[38;5;241m=\u001b[39m \u001b[43mexchange_client\u001b[49m\u001b[38;5;241;43m.\u001b[39;49m\u001b[43mget_market_history\u001b[49m\u001b[43m(\u001b[49m\u001b[43mticker\u001b[49m\u001b[38;5;241;43m=\u001b[39;49m\u001b[38;5;124;43m'\u001b[39;49m\u001b[38;5;124;43mKXRECESSAPPT-25-TG\u001b[39;49m\u001b[38;5;124;43m'\u001b[39;49m\u001b[43m)\u001b[49m\n",
      "File \u001b[1;32me:\\实习\\LUCIDA\\Cross-platform price spread arbitrage between polymarket and kalshi\\kalshi\\KalshiAPIStarterCodeWithApiKey\\KalshiClientsBaseV2ApiKey.py:225\u001b[0m, in \u001b[0;36mExchangeClient.get_market_history\u001b[1;34m(self, ticker, limit, cursor, max_ts, min_ts)\u001b[0m\n\u001b[0;32m    223\u001b[0m query_string \u001b[38;5;241m=\u001b[39m \u001b[38;5;28mself\u001b[39m\u001b[38;5;241m.\u001b[39mquery_generation(params \u001b[38;5;241m=\u001b[39m relevant_params)\n\u001b[0;32m    224\u001b[0m market_url \u001b[38;5;241m=\u001b[39m \u001b[38;5;28mself\u001b[39m\u001b[38;5;241m.\u001b[39mget_market_url(ticker \u001b[38;5;241m=\u001b[39m ticker)\n\u001b[1;32m--> 225\u001b[0m dictr \u001b[38;5;241m=\u001b[39m \u001b[38;5;28;43mself\u001b[39;49m\u001b[38;5;241;43m.\u001b[39;49m\u001b[43mget\u001b[49m\u001b[43m(\u001b[49m\u001b[43mmarket_url\u001b[49m\u001b[43m \u001b[49m\u001b[38;5;241;43m+\u001b[39;49m\u001b[43m \u001b[49m\u001b[38;5;124;43m'\u001b[39;49m\u001b[38;5;124;43m/history\u001b[39;49m\u001b[38;5;124;43m'\u001b[39;49m\u001b[43m \u001b[49m\u001b[38;5;241;43m+\u001b[39;49m\u001b[43m \u001b[49m\u001b[43mquery_string\u001b[49m\u001b[43m)\u001b[49m\n\u001b[0;32m    226\u001b[0m \u001b[38;5;28;01mreturn\u001b[39;00m dictr\n",
      "File \u001b[1;32me:\\实习\\LUCIDA\\Cross-platform price spread arbitrage between polymarket and kalshi\\kalshi\\KalshiAPIStarterCodeWithApiKey\\KalshiClientsBaseV2ApiKey.py:72\u001b[0m, in \u001b[0;36mKalshiClient.get\u001b[1;34m(self, path, params)\u001b[0m\n\u001b[0;32m     67\u001b[0m \u001b[38;5;28mself\u001b[39m\u001b[38;5;241m.\u001b[39mrate_limit()\n\u001b[0;32m     69\u001b[0m response \u001b[38;5;241m=\u001b[39m requests\u001b[38;5;241m.\u001b[39mget(\n\u001b[0;32m     70\u001b[0m     \u001b[38;5;28mself\u001b[39m\u001b[38;5;241m.\u001b[39mhost \u001b[38;5;241m+\u001b[39m path, headers\u001b[38;5;241m=\u001b[39m\u001b[38;5;28mself\u001b[39m\u001b[38;5;241m.\u001b[39mrequest_headers(\u001b[38;5;124m\"\u001b[39m\u001b[38;5;124mGET\u001b[39m\u001b[38;5;124m\"\u001b[39m, path), params\u001b[38;5;241m=\u001b[39mparams\n\u001b[0;32m     71\u001b[0m )\n\u001b[1;32m---> 72\u001b[0m \u001b[38;5;28;43mself\u001b[39;49m\u001b[38;5;241;43m.\u001b[39;49m\u001b[43mraise_if_bad_response\u001b[49m\u001b[43m(\u001b[49m\u001b[43mresponse\u001b[49m\u001b[43m)\u001b[49m\n\u001b[0;32m     73\u001b[0m \u001b[38;5;28;01mreturn\u001b[39;00m response\u001b[38;5;241m.\u001b[39mjson()\n",
      "File \u001b[1;32me:\\实习\\LUCIDA\\Cross-platform price spread arbitrage between polymarket and kalshi\\kalshi\\KalshiAPIStarterCodeWithApiKey\\KalshiClientsBaseV2ApiKey.py:133\u001b[0m, in \u001b[0;36mKalshiClient.raise_if_bad_response\u001b[1;34m(self, response)\u001b[0m\n\u001b[0;32m    131\u001b[0m \u001b[38;5;28;01mdef\u001b[39;00m \u001b[38;5;21mraise_if_bad_response\u001b[39m(\u001b[38;5;28mself\u001b[39m, response: requests\u001b[38;5;241m.\u001b[39mResponse) \u001b[38;5;241m-\u001b[39m\u001b[38;5;241m>\u001b[39m \u001b[38;5;28;01mNone\u001b[39;00m:\n\u001b[0;32m    132\u001b[0m     \u001b[38;5;28;01mif\u001b[39;00m response\u001b[38;5;241m.\u001b[39mstatus_code \u001b[38;5;129;01mnot\u001b[39;00m \u001b[38;5;129;01min\u001b[39;00m \u001b[38;5;28mrange\u001b[39m(\u001b[38;5;241m200\u001b[39m, \u001b[38;5;241m299\u001b[39m):\n\u001b[1;32m--> 133\u001b[0m         \u001b[38;5;28;01mraise\u001b[39;00m HttpError(response\u001b[38;5;241m.\u001b[39mreason, response\u001b[38;5;241m.\u001b[39mstatus_code)\n",
      "\u001b[1;31mHttpError\u001b[0m: HttpError(404 Not Found)"
     ]
    }
   ],
   "source": [
    "# param = {\n",
    "#     'ticker':'KXRECESSAPPT-25-TG',\n",
    "#     'limit':100\n",
    "# }\n",
    "\n",
    "# for i in range(data_markets.shape[0]):\n",
    "#     try:\n",
    "#         market_resp = exchange_client.get_market_history(ticker=data_markets.loc[i,'ticker'])\n",
    "#         break\n",
    "#     except Exception as e:\n",
    "#         print(e)\n",
    "\n",
    "# market_resp = exchange_client.get_market_history(ticker=data_markets.loc[0,'ticker'])\n",
    "market_resp = exchange_client.get_market_history(ticker='KXRECESSAPPT-25-TG')"
   ]
  },
  {
   "cell_type": "markdown",
   "metadata": {},
   "source": []
  },
  {
   "cell_type": "code",
   "execution_count": 24,
   "metadata": {},
   "outputs": [
    {
     "data": {
      "text/plain": [
       "'MIIEogIBAAKCAQEAwI/tSTxdRXfAHehenHMXhO3khd17ih1Db2KRQE8Vl5ZEbsdIG5Q/Kn8J0f6Ig8jo+EM/i3d3CBYyiLPQB/zTn+jhRpmyt9y1qCgIPfi7iMphVL/57wm9/S2q4K40c/hXT5pBA56W7bPxeVLIrmy/NSkPnQXG13TEJ54CuJyrI6Oc63glMaTyCTjHVBdUJcvVyHL2RZfbaUhRpurfYJJUzaqsqugSK7/ozuowXHZiHghNAAsbtygiA0CFGxAMJKOJsDtADjmEyYVCjHpLMJerCm28RUlg5SuckGx3uT8IGzaNo0znF79NPy26+lBs7MUzuYwo1XhGZbuigRt/FNPMbQIDAQABAoIBAEmHa+M4MqFxHaIN9fqllAiFUmqvbRoLHJHuwGofCK6uiYkHfYhSbmBKzDQsjnJMCHGsNBqMTp5+42MBzmEOcLyyDzuHOxAsLg1849DOJsYQCWR0PfrB7JM9me9bddoGrUhPLZ41M4qm2IEsVEcObWDeQgECkK/6/V/nXUCjSlI73//ILVc146+PdoG48j20GyTq+SOzAFsyMClUuo3uqTMuCv5Kb7ZrsrY1P5sePtZ/fjGIeg7BN5xOnDCr2/uRZL1ywLVct5HnlH/liMxHXftPqh/f4n0ekxlFLNwVOcTRdOGalBmDjPWY3gQUouBmM4xwtuYvmM5/nIfvq0IgNYECgYEA96K7oICI93vEF5xoOlKLKWU79KoWPEQ7zA7dEdvJSgDyYzm7JDUWhiQoFMux62wQ+SzDTQ7WAQv0/nyCZMtZm41ST+nnbCmpM+iMNnP5wRTnS5f+gpKcSNO+WMgUp180YGG8cnMYXU09X+KTSAxkXTeHpfu1eRe8g/F+tAJK6c0CgYEAxxD7ezcQ1u2K4mI4SFAX27CU1+duJMOS99MSEd4EdJEhBHrT+K+PgLPc9nVXyxKsy+bvbR1BJ2KKq0zotmHWR45wsht88GziFBFGklb+HKvdPDvNpGGLu/Wi//F2GaMWI10BjHzh4Fp37Llp56QFlsJ2ZUw/WXjVpchgG7c9TSECgYAIv1PXYJL2AwYzO1AnN0E5Lh1HEDcG2/YsyB2hAt2CYrQtMx3cMo/gHyjXSza2tTOISb+AWlTO5qg50RYeD1zT9NMChaWqGXKjpcRGLCSXYHCnJ/BSlnE01V307uRj4SYNfYZVmKE0soTHfU5sjhuBe3OsNk77vw3mr0Ilg6s3xQKBgEl9CXnpUDwoIXeFjwWTG9usiqZR96V21dDLiQYzki1+TlQbDBnope97dv09QJXlZQk5TfZYMG9bv5mRoO+Dmtl7yjrWTv9rEuMZpZXsq47mG5xa74XZxP40pmIaP+EjBc80TJgSmkh63X70zBYJxU5sp8ypo1FifGzhVimlMepBAoGAWH+vktu0rFoGgLXZ1cxN92UH8c9wcou2AY+5fcQj4a0sk854/vzdXCrrg5XEQqxcHoRuQPAPVx2yhnqrr5WIiCki3/ChkwP6guuyq4pMsy29R2Fl8SoMWPKM+SYQcjhzsdhuMRJzJHRnRvfppn/7ni8U7chcFqB13c0fXC/Sa0c='"
      ]
     },
     "execution_count": 24,
     "metadata": {},
     "output_type": "execute_result"
    }
   ],
   "source": [
    "with open('../kalshi-key.txt','r',encoding='utf-8') as file:\n",
    "    kalshi_key = file.read()\n",
    "kalshi_key = re.sub('\\n','',kalshi_key)\n",
    "kalshi_key"
   ]
  },
  {
   "cell_type": "code",
   "execution_count": 25,
   "metadata": {},
   "outputs": [
    {
     "data": {
      "text/plain": [
       "1627830000"
      ]
     },
     "execution_count": 25,
     "metadata": {},
     "output_type": "execute_result"
    }
   ],
   "source": [
    "# ISO 8601 格式的日期时间字符串\n",
    "# iso_date = \"2021-07-26T21:00:00Z\"\n",
    "iso_date = '2021-08-01T23:00:00Z'\n",
    "\n",
    "# 将 ISO 8601 格式的字符串转换为 datetime 对象\n",
    "dt_object = datetime.strptime(iso_date, \"%Y-%m-%dT%H:%M:%SZ\")\n",
    "\n",
    "# 将 datetime 对象转换为 Unix 时间戳\n",
    "timestamp = int(time.mktime(dt_object.timetuple()))\n",
    "timestamp"
   ]
  },
  {
   "cell_type": "code",
   "execution_count": null,
   "metadata": {},
   "outputs": [
    {
     "data": {
      "text/plain": [
       "'{\"error\":{\"code\":\"missing_parameters\",\"message\":\"missing parameters\",\"service\":\"\"}}'"
      ]
     },
     "execution_count": 26,
     "metadata": {},
     "output_type": "execute_result"
    }
   ],
   "source": [
    "base_url = \"https://api.elections.kalshi.com/trade-api/v2\"\n",
    "endpoint = \"series/{series_ticker}/markets/{ticker}/candlesticks\"\n",
    "\n",
    "series_ticker = \"KXMTA\"  \n",
    "ticker = \"MTA-21AUG01-A2.23\" \n",
    "\n",
    "url = f\"{base_url}/{endpoint}\".replace(\"{series_ticker}\", series_ticker).replace(\"{ticker}\", ticker)\n",
    "\n",
    "params = {\n",
    "    'start_ts': 1627304400,  # 开始时间\n",
    "    'end_ts': 1627830000,    # 结束时间\n",
    "    'period_interval': 1440                       # 时间间隔，例如 1 天\n",
    "}\n",
    "headers = {\n",
    "    \"accept\": \"application/json\",\n",
    "    \"Authorization\": 'Bearer '+ prod_key_id\n",
    "}\n",
    "response = requests.get(url, headers=headers)\n",
    "\n",
    "response.text"
   ]
  },
  {
   "cell_type": "code",
   "execution_count": null,
   "metadata": {},
   "outputs": [],
   "source": []
  },
  {
   "cell_type": "markdown",
   "metadata": {},
   "source": [
    "# 获取 Bearer Token"
   ]
  },
  {
   "cell_type": "code",
   "execution_count": null,
   "metadata": {},
   "outputs": [],
   "source": [
    "import uuid\n",
    "import kalshi_python\n",
    "from kalshi_python.models import *\n",
    "from pprint import pprint\n",
    "\n",
    "config = kalshi_python.Configuration()\n",
    "# Comment the line below to use production\n",
    "config.host = \"https://api.elections.kalshi.com/trade-api/v2\"\n",
    "\n",
    "# Create an API configuration passing your credentials.\n",
    "# Use this if you want the kalshi_python sdk to manage the authentication for you.\n",
    "kalshi_api = kalshi_python.ApiInstance(\n",
    "    email='YOUR_EMAIL_HERE',\n",
    "    password='YOUR_PASSWORD_HERE',\n",
    "    configuration=config,\n",
    ")\n"
   ]
  },
  {
   "cell_type": "code",
   "execution_count": null,
   "metadata": {},
   "outputs": [],
   "source": [
    "\n",
    "# Alternatively you can manage the authentication yourself by doing:\n",
    "# kalshi_api = kalshi_python.ApiInstance(\n",
    "#     configuration=config,\n",
    "# )\n",
    "# loginResponse = kalshi_api.login(LoginRequest(email='YOUR_EMAIL_HERE', password='YOUR_PASSWORD_HERE'))\n",
    "# token = loginResponse.token\n",
    "# kalshi_api.set_api_token(loginResponse.token)\n",
    "# # The token used above can eventually expire if you stop using it for more than 30 minutes.\n",
    "# # In that case you should redo the process by doing a new login request and setting the api token again in the same way.\n"
   ]
  },
  {
   "cell_type": "code",
   "execution_count": null,
   "metadata": {},
   "outputs": [],
   "source": [
    "\n",
    "# Checks if the exchange is available.\n",
    "exchangeStatus = kalshi_api.get_exchange_status()\n",
    "print('Exchange status response: ')\n",
    "pprint(exchangeStatus)"
   ]
  }
 ],
 "metadata": {
  "kernelspec": {
   "display_name": "poly_and_kalshi",
   "language": "python",
   "name": "python3"
  },
  "language_info": {
   "codemirror_mode": {
    "name": "ipython",
    "version": 3
   },
   "file_extension": ".py",
   "mimetype": "text/x-python",
   "name": "python",
   "nbconvert_exporter": "python",
   "pygments_lexer": "ipython3",
   "version": "3.9.20"
  }
 },
 "nbformat": 4,
 "nbformat_minor": 2
}
