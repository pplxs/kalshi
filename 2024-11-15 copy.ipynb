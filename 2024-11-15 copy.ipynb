{
 "cells": [
  {
   "cell_type": "markdown",
   "metadata": {
    "vscode": {
     "languageId": "plaintext"
    }
   },
   "source": [
    "需求说明：\n",
    "    找出polymarket上 strike date的3天前和7天前市场发生概率大于0.9，小于0.95，且在strike date 当日发生成交的概率\n",
    "\n",
    "分解需求：\n",
    "    1、从文档(polymarket\\markets_data.csv) 找出 已经关闭的事件，字段closed\n",
    "    2、获取已关闭事件的所有市场的token_id。并获取历史价格数据，全部存入对应question_id\n",
    "    3、找到在 strike date 之前的倒数第三天和倒数第7天的市场发生概率大于0.9且小于0.95的事件及其市场，计算总的事件数N\n",
    "    4、找到第3、的市场，看其是否在strike date 当日的概率为1。计算win的总事件的数目m\n",
    "    5、计算总发生概率 m/N，并输出总结果"
   ]
  },
  {
   "cell_type": "code",
   "execution_count": 1,
   "metadata": {},
   "outputs": [],
   "source": [
    "import pandas as pd\n",
    "import numpy as np\n",
    "import csv\n",
    "import json\n",
    "import os\n",
    "from py_clob_client.client import ClobClient,BookParams\n",
    "from py_clob_client.constants import POLYGON\n",
    "from dotenv import load_dotenv\n",
    "\n",
    "import warnings\n",
    "warnings.filterwarnings('ignore')\n",
    "\n",
    "import requests\n",
    "from datetime import datetime\n",
    "import re"
   ]
  },
  {
   "cell_type": "markdown",
   "metadata": {},
   "source": [
    "1、从文档('polymarket\\markets_data.csv') 找出已经关闭的事件，字段closed"
   ]
  },
  {
   "cell_type": "code",
   "execution_count": 2,
   "metadata": {},
   "outputs": [],
   "source": [
    "poly_data = pd.read_csv('polymarket\\markets_data.csv')"
   ]
  },
  {
   "cell_type": "code",
   "execution_count": 4,
   "metadata": {},
   "outputs": [
    {
     "data": {
      "text/plain": [
       "Index(['accepting_order_timestamp', 'accepting_orders', 'active', 'archived',\n",
       "       'closed', 'condition_id', 'description', 'enable_order_book',\n",
       "       'end_date_iso', 'fpmm', 'game_start_time', 'icon', 'image',\n",
       "       'is_50_50_outcome', 'maker_base_fee', 'market_slug',\n",
       "       'minimum_order_size', 'minimum_tick_size', 'neg_risk',\n",
       "       'neg_risk_market_id', 'neg_risk_request_id', 'notifications_enabled',\n",
       "       'question', 'question_id', 'rewards', 'seconds_delay', 'tags',\n",
       "       'taker_base_fee', 'token_outcome', 'token_price', 'token_token_id',\n",
       "       'token_winner', 'tokens'],\n",
       "      dtype='object')"
      ]
     },
     "execution_count": 4,
     "metadata": {},
     "output_type": "execute_result"
    }
   ],
   "source": [
    "poly_data.columns"
   ]
  },
  {
   "cell_type": "code",
   "execution_count": 6,
   "metadata": {},
   "outputs": [],
   "source": [
    "# poly_data['token_winner']"
   ]
  },
  {
   "cell_type": "code",
   "execution_count": 7,
   "metadata": {},
   "outputs": [],
   "source": [
    "poly_data_closed=poly_data[poly_data['closed']==True][['condition_id','question','question_id','tokens','token_winner']].reset_index(drop=True)"
   ]
  },
  {
   "cell_type": "markdown",
   "metadata": {},
   "source": [
    "2、获取已关闭事件的所有市场的token_id，并获取历史价格数据，全部存入对应question_id"
   ]
  },
  {
   "cell_type": "code",
   "execution_count": 132,
   "metadata": {},
   "outputs": [],
   "source": [
    "clob_endpoint = \"https://clob.polymarket.com\"\n",
    "url = f\"{clob_endpoint}/prices-history\" # 获取历史价格"
   ]
  },
  {
   "cell_type": "code",
   "execution_count": 260,
   "metadata": {},
   "outputs": [
    {
     "data": {
      "text/plain": [
       "13519"
      ]
     },
     "execution_count": 260,
     "metadata": {},
     "output_type": "execute_result"
    }
   ],
   "source": [
    "i"
   ]
  },
  {
   "cell_type": "code",
   "execution_count": 258,
   "metadata": {},
   "outputs": [
    {
     "data": {
      "text/plain": [
       "'[{\"token_id\": \"75674010897912433263470070979110319954823328111562242389419248656674366188074\", \"outcome\": \"Gillen \", \"price\": 1, \"winner\": true}, {\"token_id\": \"23682917493470547014927814926256831892437243307768785697446430339870292046840\", \"outcome\": \"D\"Esposito\", \"price\": 0, \"winner\": false}]'"
      ]
     },
     "execution_count": 258,
     "metadata": {},
     "output_type": "execute_result"
    }
   ],
   "source": [
    "js_str"
   ]
  },
  {
   "cell_type": "code",
   "execution_count": null,
   "metadata": {},
   "outputs": [],
   "source": [
    "pattern = r'(?<=[a-zA-Z0-9])\"s'\n",
    "\n",
    "re.sub(pattern,'',)"
   ]
  },
  {
   "cell_type": "code",
   "execution_count": 264,
   "metadata": {},
   "outputs": [
    {
     "data": {
      "text/plain": [
       "2"
      ]
     },
     "execution_count": 264,
     "metadata": {},
     "output_type": "execute_result"
    }
   ],
   "source": [
    "len(tokens_id)"
   ]
  },
  {
   "cell_type": "code",
   "execution_count": 94,
   "metadata": {},
   "outputs": [],
   "source": [
    "# pro_path = '2024-11-15/price_history/'\n",
    "# questions_id = []\n",
    "# for i in range(poly_data_closed.shape[0]):\n",
    "#     tmp_data = poly_data_closed.iloc[i,:]\n",
    "#     que_id = tmp_data['question_id']\n",
    "#     os.makedirs(pro_path+str(que_id), exist_ok=True)\n",
    "\n",
    "#     questions_id.append(que_id)\n",
    "\n",
    "#     # 获取token_id\n",
    "#     js_str = tmp_data['tokens'].replace(\"'\",'\"')\n",
    "#     if 'False' in js_str:  # 如果str中包含False 或者 True, 必须转化为小写\n",
    "#         js_str=js_str.replace('False','false')\n",
    "\n",
    "#     if 'True' in js_str:\n",
    "#         js_str=js_str.replace('True','true')\n",
    "\n",
    "#     # json字符串的处理1\n",
    "#     pattern = r'(?<=[a-zA-Z0-9])\"s'  # 匹配s前面的\", 且该\"前面的字符只能是数字或者字母\n",
    "#     js_str = re.sub(pattern, '', js_str)    \n",
    "\n",
    "#     # json字符串的处理2\n",
    "#     pattern = r'(?<=[a-zA-Z0-9])\"N'  # 匹配s前面的\", 且该\"前面的字符只能是数字或者字母\n",
    "#     js_str = re.sub(pattern, '', js_str) \n",
    "\n",
    "#     # json字符串的处理3\n",
    "#     pattern = r'(?<=[a-zA-Z0-9])\"E'  # 匹配s前面的\", 且该\"前面的字符只能是数字或者字母\n",
    "#     js_str = re.sub(pattern, '', js_str)  \n",
    "\n",
    "#     tokens_id=json.loads(js_str)\n",
    "\n",
    "#     if len(os.listdir(pro_path+str(que_id)))==len(tokens_id):\n",
    "#         continue\n",
    "\n",
    "#     # 获取历史价格数据\n",
    "#     for j in range(len(tokens_id)):\n",
    "#         token_id = tokens_id[j]['token_id']\n",
    "#         params = {\n",
    "#             \"market\": token_id,  # 替换为实际的CLOB token id\n",
    "#             \"interval\": \"max\",  # 获取最大长度的数据\n",
    "#             \"fidelity\": 60*24  # 数据分辨率，单位为分钟\n",
    "#         }\n",
    "#         try:\n",
    "#             # 发送GET请求\n",
    "#             response = requests.get(url, params=params)\n",
    "#             response.raise_for_status()  # 如果响应状态码不是200，将抛出异常\n",
    "#             # 解析响应数据\n",
    "#             prices_history = response.json()\n",
    "#             prices_history = pd.DataFrame(prices_history['history'])\n",
    "#             prices_history['t'] = prices_history['t'].apply(lambda x:datetime.fromtimestamp(x).strftime('%Y-%m-%d %H:%M:%S'))\n",
    "#             file_path = f'{pro_path}/{que_id}/{token_id}.csv'\n",
    "#             # print(file_path)\n",
    "#             prices_history.to_csv(file_path, index=False)\n",
    "#         except requests.RequestException as e:\n",
    "#             print(f\"请求错误：{e}\")\n",
    "#             print(i,que_id)\n",
    "        \n",
    "        "
   ]
  },
  {
   "cell_type": "code",
   "execution_count": null,
   "metadata": {},
   "outputs": [],
   "source": []
  },
  {
   "cell_type": "markdown",
   "metadata": {},
   "source": [
    "3、找到在 strike date 前 的倒数第三天和倒数第7天的市场发生概率大于0.9且小于0.95的事件及其市场，计算总的事件数N"
   ]
  },
  {
   "cell_type": "code",
   "execution_count": 225,
   "metadata": {},
   "outputs": [],
   "source": [
    "# pro_path = '2024-11-15/limited_events/'\n",
    "events_id = [] # 存入满足条件的 question_id\n",
    "markets_id = [] # 存入满足条件的 token_id\n",
    "N = 0 # 记录满足条件的总事件数目\n",
    "flag = False  # flag = False 表示该事件的市场中没有满足条件的市场\n",
    "for file_path in os.listdir('2024-11-15/price_history/'):\n",
    "    que_id = file_path\n",
    "\n",
    "    for f_p in os.listdir(f'2024-11-15/price_history/{que_id}'):\n",
    "        prices_history = pd.read_csv(f'2024-11-15/price_history/{que_id}/{f_p}')\n",
    "\n",
    "        if prices_history.shape[0]>=8:\n",
    "            # strike date 前 倒数第三天的价格\n",
    "            pre_3d = prices_history.iloc[-4,:]\n",
    "            price_pre_3d = pre_3d['p']\n",
    "\n",
    "            # strike date 前 倒数第7天的价格\n",
    "            pre_7d = prices_history.iloc[-8,:]\n",
    "            price_pre_7d = pre_7d['p']\n",
    "\n",
    "            if 0.9<price_pre_3d<0.95 and 0.9<price_pre_7d<0.95:\n",
    "                markets_id.append(f_p[:-4])\n",
    "                flag=True\n",
    "    \n",
    "    if flag == True:\n",
    "        N+=1\n",
    "        events_id.append(que_id)\n",
    "    \n",
    "    flag=False\n",
    "\n"
   ]
  },
  {
   "cell_type": "markdown",
   "metadata": {},
   "source": [
    "4、找到第3、的市场，看其是否在strike date 当日的概率为1。计算win的总事件的数目m"
   ]
  },
  {
   "cell_type": "code",
   "execution_count": 226,
   "metadata": {},
   "outputs": [],
   "source": [
    "# 为确保准确，应该找到交易结束的时间\n",
    "\n",
    "m=0 # 计算win的事件个数\n",
    "m_events_id = [] # 存储win的 question_id\n",
    "m_markets_id = [] # 存储win的 市场id\n",
    "for i in range(len(events_id)):\n",
    "    que_id = events_id[i]\n",
    "    tmp_data = poly_data_closed[poly_data_closed['question_id']==que_id]\n",
    "    if not tmp_data.empty:\n",
    "    \n",
    "        js_str = tmp_data['tokens'].values[0].replace(\"'\",'\"')\n",
    "        if 'False' in js_str:  # 如果str中包含False 或者 True, 必须转化为小写\n",
    "            js_str=js_str.replace('False','false')\n",
    "\n",
    "        if 'True' in js_str:\n",
    "            js_str=js_str.replace('True','true')\n",
    "\n",
    "        # # json字符串的处理1\n",
    "        # pattern = r'(?<=[a-zA-Z0-9])\"s'  # 匹配s前面的\", 且该\"前面的字符只能是数字或者字母\n",
    "        # js_str = re.sub(pattern, '', js_str)    \n",
    "\n",
    "        # # json字符串的处理2\n",
    "        # pattern = r'(?<=[a-zA-Z0-9])\"N'  # 匹配s前面的\", 且该\"前面的字符只能是数字或者字母\n",
    "        # js_str = re.sub(pattern, '', js_str) \n",
    "\n",
    "        # # json字符串的处理3\n",
    "        # pattern = r'(?<=[a-zA-Z0-9])\"E'  # 匹配s前面的\", 且该\"前面的字符只能是数字或者字母\n",
    "        # js_str = re.sub(pattern, '', js_str)  \n",
    "\n",
    "        tokens_id=json.loads(js_str)\n",
    "\n",
    "        # 获取win是否为True\n",
    "        for j in range(len(tokens_id)):\n",
    "            if tokens_id[j]['token_id']==markets_id[i] and tokens_id[j]['winner']==True:\n",
    "                m+=1\n",
    "                m_events_id.append(que_id)\n",
    "                m_markets_id.append(markets_id[i])\n",
    "            "
   ]
  },
  {
   "cell_type": "markdown",
   "metadata": {},
   "source": [
    "5、计算总发生概率 m/N"
   ]
  },
  {
   "cell_type": "code",
   "execution_count": 227,
   "metadata": {},
   "outputs": [
    {
     "data": {
      "text/plain": [
       "116"
      ]
     },
     "execution_count": 227,
     "metadata": {},
     "output_type": "execute_result"
    }
   ],
   "source": [
    "m"
   ]
  },
  {
   "cell_type": "code",
   "execution_count": 228,
   "metadata": {},
   "outputs": [
    {
     "data": {
      "text/plain": [
       "177"
      ]
     },
     "execution_count": 228,
     "metadata": {},
     "output_type": "execute_result"
    }
   ],
   "source": [
    "N"
   ]
  },
  {
   "cell_type": "code",
   "execution_count": 229,
   "metadata": {},
   "outputs": [
    {
     "data": {
      "text/plain": [
       "0.655367231638418"
      ]
     },
     "execution_count": 229,
     "metadata": {},
     "output_type": "execute_result"
    }
   ],
   "source": [
    "m/N"
   ]
  },
  {
   "cell_type": "markdown",
   "metadata": {},
   "source": [
    "6、输出上述表述的事件及市场"
   ]
  },
  {
   "cell_type": "code",
   "execution_count": 230,
   "metadata": {},
   "outputs": [],
   "source": [
    "final_data = pd.DataFrame()\n",
    "for i in range(len(m_events_id)):\n",
    "    que_id = m_events_id[i]\n",
    "    data_tmp = poly_data[poly_data['question_id']==que_id]\n",
    "\n",
    "    que = data_tmp['question'].values[0]\n",
    "\n",
    "    js_str = data_tmp['tokens'].values[0].replace(\"'\",'\"')\n",
    "    if 'False' in js_str:  # 如果str中包含False 或者 True, 必须转化为小写\n",
    "            js_str=js_str.replace('False','false')\n",
    "    if 'True' in js_str:\n",
    "        js_str=js_str.replace('True','true')\n",
    "\n",
    "    token_dict = json.loads(js_str)\n",
    "    token_frame = pd.DataFrame(token_dict)\n",
    "    token_frame=token_frame[token_frame['token_id']==m_markets_id[i]]\n",
    "    \n",
    "    final_data.loc[i,'question'] = que\n",
    "    final_data.loc[i,'outcome'] = token_frame['outcome'].values[0]\n",
    "    final_data.loc[i,'price'] = token_frame['price'].values[0]\n",
    "    final_data.loc[i,'winner'] = token_frame['winner'].values[0]\n",
    "\n",
    "    # 开始和结束时间\n",
    "    df = pd.read_csv(f'2024-11-15/price_history/{que_id}/{m_markets_id[i]}.csv')\n",
    "    start_time = df['t'].values[0]\n",
    "    end_time = df['t'].values[-1]\n",
    "\n",
    "    final_data.loc[i,'start_time'] = start_time\n",
    "    final_data.loc[i,'end_time'] = end_time\n"
   ]
  },
  {
   "cell_type": "code",
   "execution_count": 231,
   "metadata": {},
   "outputs": [
    {
     "data": {
      "text/html": [
       "<div>\n",
       "<style scoped>\n",
       "    .dataframe tbody tr th:only-of-type {\n",
       "        vertical-align: middle;\n",
       "    }\n",
       "\n",
       "    .dataframe tbody tr th {\n",
       "        vertical-align: top;\n",
       "    }\n",
       "\n",
       "    .dataframe thead th {\n",
       "        text-align: right;\n",
       "    }\n",
       "</style>\n",
       "<table border=\"1\" class=\"dataframe\">\n",
       "  <thead>\n",
       "    <tr style=\"text-align: right;\">\n",
       "      <th></th>\n",
       "      <th>question</th>\n",
       "      <th>outcome</th>\n",
       "      <th>price</th>\n",
       "      <th>winner</th>\n",
       "      <th>start_time</th>\n",
       "      <th>end_time</th>\n",
       "    </tr>\n",
       "  </thead>\n",
       "  <tbody>\n",
       "    <tr>\n",
       "      <th>0</th>\n",
       "      <td>Will U.S. inflation be greater than 0.0% from ...</td>\n",
       "      <td>Yes</td>\n",
       "      <td>1.0</td>\n",
       "      <td>True</td>\n",
       "      <td>2023-06-13 08:00:02</td>\n",
       "      <td>2023-07-12 08:00:02</td>\n",
       "    </tr>\n",
       "    <tr>\n",
       "      <th>1</th>\n",
       "      <td>Will Sam Altman join Grok by Dec 31?</td>\n",
       "      <td>No</td>\n",
       "      <td>1.0</td>\n",
       "      <td>True</td>\n",
       "      <td>2023-11-19 08:00:03</td>\n",
       "      <td>2024-01-01 08:00:02</td>\n",
       "    </tr>\n",
       "    <tr>\n",
       "      <th>2</th>\n",
       "      <td>Jupiter airdrop in 2023?</td>\n",
       "      <td>No</td>\n",
       "      <td>1.0</td>\n",
       "      <td>True</td>\n",
       "      <td>2023-12-12 08:00:02</td>\n",
       "      <td>2024-01-01 08:00:02</td>\n",
       "    </tr>\n",
       "    <tr>\n",
       "      <th>3</th>\n",
       "      <td>US adds between 250k and 300k jobs in August?</td>\n",
       "      <td>No</td>\n",
       "      <td>1.0</td>\n",
       "      <td>True</td>\n",
       "      <td>2024-08-03 08:00:02</td>\n",
       "      <td>2024-09-06 08:00:02</td>\n",
       "    </tr>\n",
       "    <tr>\n",
       "      <th>4</th>\n",
       "      <td>US adds more than 300k jobs in August?</td>\n",
       "      <td>No</td>\n",
       "      <td>1.0</td>\n",
       "      <td>True</td>\n",
       "      <td>2024-08-03 08:00:02</td>\n",
       "      <td>2024-09-06 08:00:02</td>\n",
       "    </tr>\n",
       "    <tr>\n",
       "      <th>...</th>\n",
       "      <td>...</td>\n",
       "      <td>...</td>\n",
       "      <td>...</td>\n",
       "      <td>...</td>\n",
       "      <td>...</td>\n",
       "      <td>...</td>\n",
       "    </tr>\n",
       "    <tr>\n",
       "      <th>111</th>\n",
       "      <td>Will Sinema announce she's running for re-elec...</td>\n",
       "      <td>No</td>\n",
       "      <td>1.0</td>\n",
       "      <td>True</td>\n",
       "      <td>2024-02-01 08:00:02</td>\n",
       "      <td>2024-03-05 08:00:03</td>\n",
       "    </tr>\n",
       "    <tr>\n",
       "      <th>112</th>\n",
       "      <td>Blast airdrop by May?</td>\n",
       "      <td>No</td>\n",
       "      <td>1.0</td>\n",
       "      <td>True</td>\n",
       "      <td>2023-11-25 08:00:02</td>\n",
       "      <td>2024-06-01 08:00:03</td>\n",
       "    </tr>\n",
       "    <tr>\n",
       "      <th>113</th>\n",
       "      <td>Will Nigel Farage win election to UK parliament?</td>\n",
       "      <td>Yes</td>\n",
       "      <td>1.0</td>\n",
       "      <td>True</td>\n",
       "      <td>2024-06-04 08:00:02</td>\n",
       "      <td>2024-07-05 08:00:02</td>\n",
       "    </tr>\n",
       "    <tr>\n",
       "      <th>114</th>\n",
       "      <td>Will X remove likes + reposts counter in March?</td>\n",
       "      <td>No</td>\n",
       "      <td>1.0</td>\n",
       "      <td>True</td>\n",
       "      <td>2024-03-08 08:00:02</td>\n",
       "      <td>2024-04-01 08:00:02</td>\n",
       "    </tr>\n",
       "    <tr>\n",
       "      <th>115</th>\n",
       "      <td>Will a Democrat win Alaska Presidential Election?</td>\n",
       "      <td>No</td>\n",
       "      <td>1.0</td>\n",
       "      <td>True</td>\n",
       "      <td>2024-03-29 08:00:02</td>\n",
       "      <td>2024-11-07 08:00:03</td>\n",
       "    </tr>\n",
       "  </tbody>\n",
       "</table>\n",
       "<p>116 rows × 6 columns</p>\n",
       "</div>"
      ],
      "text/plain": [
       "                                              question outcome  price winner  \\\n",
       "0    Will U.S. inflation be greater than 0.0% from ...     Yes    1.0   True   \n",
       "1                 Will Sam Altman join Grok by Dec 31?      No    1.0   True   \n",
       "2                             Jupiter airdrop in 2023?      No    1.0   True   \n",
       "3        US adds between 250k and 300k jobs in August?      No    1.0   True   \n",
       "4               US adds more than 300k jobs in August?      No    1.0   True   \n",
       "..                                                 ...     ...    ...    ...   \n",
       "111  Will Sinema announce she's running for re-elec...      No    1.0   True   \n",
       "112                              Blast airdrop by May?      No    1.0   True   \n",
       "113   Will Nigel Farage win election to UK parliament?     Yes    1.0   True   \n",
       "114    Will X remove likes + reposts counter in March?      No    1.0   True   \n",
       "115  Will a Democrat win Alaska Presidential Election?      No    1.0   True   \n",
       "\n",
       "              start_time             end_time  \n",
       "0    2023-06-13 08:00:02  2023-07-12 08:00:02  \n",
       "1    2023-11-19 08:00:03  2024-01-01 08:00:02  \n",
       "2    2023-12-12 08:00:02  2024-01-01 08:00:02  \n",
       "3    2024-08-03 08:00:02  2024-09-06 08:00:02  \n",
       "4    2024-08-03 08:00:02  2024-09-06 08:00:02  \n",
       "..                   ...                  ...  \n",
       "111  2024-02-01 08:00:02  2024-03-05 08:00:03  \n",
       "112  2023-11-25 08:00:02  2024-06-01 08:00:03  \n",
       "113  2024-06-04 08:00:02  2024-07-05 08:00:02  \n",
       "114  2024-03-08 08:00:02  2024-04-01 08:00:02  \n",
       "115  2024-03-29 08:00:02  2024-11-07 08:00:03  \n",
       "\n",
       "[116 rows x 6 columns]"
      ]
     },
     "execution_count": 231,
     "metadata": {},
     "output_type": "execute_result"
    }
   ],
   "source": [
    "final_data"
   ]
  },
  {
   "cell_type": "code",
   "execution_count": 233,
   "metadata": {},
   "outputs": [],
   "source": [
    "final_data.to_csv('2024-11-15/results.csv',index=False)"
   ]
  },
  {
   "cell_type": "code",
   "execution_count": 234,
   "metadata": {},
   "outputs": [],
   "source": [
    "# 计算总样本数\n",
    "pro_path = '2024-11-15/price_history/'\n",
    "X=0\n",
    "for i in os.listdir(pro_path):\n",
    "    if len(os.listdir(pro_path+'/'+i))>=2:\n",
    "        X+=1"
   ]
  },
  {
   "cell_type": "code",
   "execution_count": 235,
   "metadata": {},
   "outputs": [
    {
     "data": {
      "text/plain": [
       "12642"
      ]
     },
     "execution_count": 235,
     "metadata": {},
     "output_type": "execute_result"
    }
   ],
   "source": [
    "X"
   ]
  },
  {
   "cell_type": "code",
   "execution_count": null,
   "metadata": {},
   "outputs": [],
   "source": []
  },
  {
   "cell_type": "code",
   "execution_count": null,
   "metadata": {},
   "outputs": [],
   "source": []
  },
  {
   "cell_type": "code",
   "execution_count": null,
   "metadata": {},
   "outputs": [
    {
     "data": {
      "text/html": [
       "<div>\n",
       "<style scoped>\n",
       "    .dataframe tbody tr th:only-of-type {\n",
       "        vertical-align: middle;\n",
       "    }\n",
       "\n",
       "    .dataframe tbody tr th {\n",
       "        vertical-align: top;\n",
       "    }\n",
       "\n",
       "    .dataframe thead th {\n",
       "        text-align: right;\n",
       "    }\n",
       "</style>\n",
       "<table border=\"1\" class=\"dataframe\">\n",
       "  <thead>\n",
       "    <tr style=\"text-align: right;\">\n",
       "      <th></th>\n",
       "      <th>accepting_order_timestamp</th>\n",
       "      <th>accepting_orders</th>\n",
       "      <th>active</th>\n",
       "      <th>archived</th>\n",
       "      <th>closed</th>\n",
       "      <th>condition_id</th>\n",
       "      <th>description</th>\n",
       "      <th>enable_order_book</th>\n",
       "      <th>end_date_iso</th>\n",
       "      <th>fpmm</th>\n",
       "      <th>...</th>\n",
       "      <th>question_id</th>\n",
       "      <th>rewards</th>\n",
       "      <th>seconds_delay</th>\n",
       "      <th>tags</th>\n",
       "      <th>taker_base_fee</th>\n",
       "      <th>token_outcome</th>\n",
       "      <th>token_price</th>\n",
       "      <th>token_token_id</th>\n",
       "      <th>token_winner</th>\n",
       "      <th>tokens</th>\n",
       "    </tr>\n",
       "  </thead>\n",
       "  <tbody>\n",
       "  </tbody>\n",
       "</table>\n",
       "<p>0 rows × 33 columns</p>\n",
       "</div>"
      ],
      "text/plain": [
       "Empty DataFrame\n",
       "Columns: [accepting_order_timestamp, accepting_orders, active, archived, closed, condition_id, description, enable_order_book, end_date_iso, fpmm, game_start_time, icon, image, is_50_50_outcome, maker_base_fee, market_slug, minimum_order_size, minimum_tick_size, neg_risk, neg_risk_market_id, neg_risk_request_id, notifications_enabled, question, question_id, rewards, seconds_delay, tags, taker_base_fee, token_outcome, token_price, token_token_id, token_winner, tokens]\n",
       "Index: []\n",
       "\n",
       "[0 rows x 33 columns]"
      ]
     },
     "execution_count": 222,
     "metadata": {},
     "output_type": "execute_result"
    }
   ],
   "source": []
  }
 ],
 "metadata": {
  "kernelspec": {
   "display_name": "poly_and_kalshi",
   "language": "python",
   "name": "python3"
  },
  "language_info": {
   "codemirror_mode": {
    "name": "ipython",
    "version": 3
   },
   "file_extension": ".py",
   "mimetype": "text/x-python",
   "name": "python",
   "nbconvert_exporter": "python",
   "pygments_lexer": "ipython3",
   "version": "3.9.20"
  }
 },
 "nbformat": 4,
 "nbformat_minor": 2
}
