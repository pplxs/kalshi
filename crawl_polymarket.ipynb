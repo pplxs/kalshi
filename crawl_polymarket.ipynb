{
 "cells": [
  {
   "cell_type": "code",
   "execution_count": 7,
   "metadata": {},
   "outputs": [],
   "source": [
    "from selenium import webdriver\n",
    "from selenium.common import NoSuchElementException, StaleElementReferenceException, ElementClickInterceptedException\n",
    "from selenium.webdriver.common.by import By\n",
    "import time\n",
    "import pandas as pd\n",
    "from selenium.webdriver.chrome.service import Service\n",
    "import chromedriver_autoinstaller"
   ]
  },
  {
   "cell_type": "code",
   "execution_count": 8,
   "metadata": {},
   "outputs": [],
   "source": [
    "chromedriver_autoinstaller.install()  # 这将自动下载并设置ChromeDriver\n",
    "driver = webdriver.Chrome() "
   ]
  },
  {
   "cell_type": "code",
   "execution_count": 9,
   "metadata": {},
   "outputs": [],
   "source": [
    "url = 'https://polymarket.com/markets/all'\n",
    "driver = webdriver.Chrome()\n",
    "driver.get(url)\n",
    "driver.maximize_window()"
   ]
  },
  {
   "cell_type": "code",
   "execution_count": 37,
   "metadata": {},
   "outputs": [
    {
     "data": {
      "text/plain": [
       "<selenium.webdriver.remote.webelement.WebElement (session=\"c4dd01153b02d87a317f0f7fc1272005\", element=\"f.FD8E045B1377FDFC999BC80DCA391F06.d.764B4B40754C9ABEF68A3132B90B5B7A.e.481\")>"
      ]
     },
     "execution_count": 37,
     "metadata": {},
     "output_type": "execute_result"
    }
   ],
   "source": [
    "# 定位事件\n",
    "driver.find_element(By.XPATH, '//*[@id=\"markets-grid-container\"]/div[1]')"
   ]
  },
  {
   "cell_type": "code",
   "execution_count": 45,
   "metadata": {},
   "outputs": [
    {
     "data": {
      "text/plain": [
       "'NBA Champion'"
      ]
     },
     "execution_count": 45,
     "metadata": {},
     "output_type": "execute_result"
    }
   ],
   "source": [
    "\n",
    "# 获取 question\n",
    "que = driver.find_element(By.XPATH, '//*[@id=\"markets-grid-container\"]/div[1]/div[1]/div[2]/a/p').text\n",
    "que\n"
   ]
  },
  {
   "cell_type": "code",
   "execution_count": 46,
   "metadata": {},
   "outputs": [
    {
     "data": {
      "text/plain": [
       "'Pennsylvania Margin of Victory'"
      ]
     },
     "execution_count": 46,
     "metadata": {},
     "output_type": "execute_result"
    }
   ],
   "source": [
    "que = driver.find_element(By.XPATH, '//*[@id=\"markets-grid-container\"]/div[2]/div[1]/div[2]/a/p').text\n",
    "que"
   ]
  },
  {
   "cell_type": "code",
   "execution_count": 57,
   "metadata": {},
   "outputs": [
    {
     "data": {
      "text/plain": [
       "'Champions League Winner'"
      ]
     },
     "execution_count": 57,
     "metadata": {},
     "output_type": "execute_result"
    }
   ],
   "source": [
    "que = driver.find_element(By.XPATH, '//*[@id=\"markets-grid-container\"]/div[9]/div[1]/div[2]/a/p').text\n",
    "que"
   ]
  },
  {
   "cell_type": "code",
   "execution_count": 60,
   "metadata": {},
   "outputs": [
    {
     "name": "stdout",
     "output_type": "stream",
     "text": [
      "1 NBA Champion\n",
      "2 Pennsylvania Margin of Victory\n",
      "3 Super Bowl Champion 2025\n",
      "4 Nevada Margin of Victory\n",
      "5 Popular Vote Margin of Victory?\n",
      "6 Iowa Margin of Victory\n",
      "7 La Liga Winner\n",
      "8 Who will be inaugurated as President?\n",
      "9 Champions League Winner\n",
      "10 # of Republican Senate seats after Election?\n",
      "11 College Football Champion 2025\n",
      "12 How many Fed rate cuts this year?\n",
      "13 What price will Bitcoin hit in November?\n",
      "14 Premier League Winner\n",
      "15 Jake Paul vs. Mike Tyson: Who will win?\n",
      "16 AFC Champion\n",
      "17 Closest state in the Presidential election?\n",
      "18 Next Senate Majority Leader?\n",
      "19 Arizona Senate Election Margin of Victory\n",
      "20 Stanley Cup Champion 2025\n"
     ]
    },
    {
     "ename": "NoSuchElementException",
     "evalue": "Message: no such element: Unable to locate element: {\"method\":\"xpath\",\"selector\":\"//*[@id=\"markets-grid-container\"]/div[21]/div[1]/div[2]/a/p\"}\n  (Session info: chrome=130.0.6723.117); For documentation on this error, please visit: https://www.selenium.dev/documentation/webdriver/troubleshooting/errors#no-such-element-exception\nStacktrace:\n\tGetHandleVerifier [0x006AEBD3+24307]\n\t(No symbol) [0x00638D74]\n\t(No symbol) [0x0051C323]\n\t(No symbol) [0x0055DC86]\n\t(No symbol) [0x0055DECB]\n\t(No symbol) [0x0059B9F2]\n\t(No symbol) [0x0057FED4]\n\t(No symbol) [0x00599579]\n\t(No symbol) [0x0057FC26]\n\t(No symbol) [0x0055219C]\n\t(No symbol) [0x0055311D]\n\tGetHandleVerifier [0x00958D93+2818227]\n\tGetHandleVerifier [0x009B542E+3196750]\n\tGetHandleVerifier [0x009AD9D2+3165426]\n\tGetHandleVerifier [0x0074DA70+675216]\n\t(No symbol) [0x00641B3D]\n\t(No symbol) [0x0063EA18]\n\t(No symbol) [0x0063EBB5]\n\t(No symbol) [0x00631640]\n\tBaseThreadInitThunk [0x76CA7BA9+25]\n\tRtlInitializeExceptionChain [0x77C4C0CB+107]\n\tRtlClearBits [0x77C4C04F+191]\n",
     "output_type": "error",
     "traceback": [
      "\u001b[1;31m---------------------------------------------------------------------------\u001b[0m",
      "\u001b[1;31mNoSuchElementException\u001b[0m                    Traceback (most recent call last)",
      "Cell \u001b[1;32mIn[60], line 2\u001b[0m\n\u001b[0;32m      1\u001b[0m \u001b[38;5;28;01mfor\u001b[39;00m i \u001b[38;5;129;01min\u001b[39;00m \u001b[38;5;28mrange\u001b[39m(\u001b[38;5;241m1\u001b[39m,\u001b[38;5;241m100\u001b[39m):\n\u001b[1;32m----> 2\u001b[0m     que \u001b[38;5;241m=\u001b[39m \u001b[43mdriver\u001b[49m\u001b[38;5;241;43m.\u001b[39;49m\u001b[43mfind_element\u001b[49m\u001b[43m(\u001b[49m\u001b[43mBy\u001b[49m\u001b[38;5;241;43m.\u001b[39;49m\u001b[43mXPATH\u001b[49m\u001b[43m,\u001b[49m\u001b[43m \u001b[49m\u001b[38;5;124;43mf\u001b[39;49m\u001b[38;5;124;43m'\u001b[39;49m\u001b[38;5;124;43m//*[@id=\u001b[39;49m\u001b[38;5;124;43m\"\u001b[39;49m\u001b[38;5;124;43mmarkets-grid-container\u001b[39;49m\u001b[38;5;124;43m\"\u001b[39;49m\u001b[38;5;124;43m]/div[\u001b[39;49m\u001b[38;5;132;43;01m{\u001b[39;49;00m\u001b[43mi\u001b[49m\u001b[38;5;132;43;01m}\u001b[39;49;00m\u001b[38;5;124;43m]/div[1]/div[2]/a/p\u001b[39;49m\u001b[38;5;124;43m'\u001b[39;49m\u001b[43m)\u001b[49m\u001b[38;5;241m.\u001b[39mtext\n\u001b[0;32m      3\u001b[0m     \u001b[38;5;28mprint\u001b[39m(i,que)\n",
      "File \u001b[1;32md:\\software\\anaconda\\envs\\poly_and_kalshi\\lib\\site-packages\\selenium\\webdriver\\remote\\webdriver.py:766\u001b[0m, in \u001b[0;36mWebDriver.find_element\u001b[1;34m(self, by, value)\u001b[0m\n\u001b[0;32m    763\u001b[0m         \u001b[38;5;28;01mraise\u001b[39;00m NoSuchElementException(\u001b[38;5;124mf\u001b[39m\u001b[38;5;124m\"\u001b[39m\u001b[38;5;124mCannot locate relative element with: \u001b[39m\u001b[38;5;132;01m{\u001b[39;00mby\u001b[38;5;241m.\u001b[39mroot\u001b[38;5;132;01m}\u001b[39;00m\u001b[38;5;124m\"\u001b[39m)\n\u001b[0;32m    764\u001b[0m     \u001b[38;5;28;01mreturn\u001b[39;00m elements[\u001b[38;5;241m0\u001b[39m]\n\u001b[1;32m--> 766\u001b[0m \u001b[38;5;28;01mreturn\u001b[39;00m \u001b[38;5;28;43mself\u001b[39;49m\u001b[38;5;241;43m.\u001b[39;49m\u001b[43mexecute\u001b[49m\u001b[43m(\u001b[49m\u001b[43mCommand\u001b[49m\u001b[38;5;241;43m.\u001b[39;49m\u001b[43mFIND_ELEMENT\u001b[49m\u001b[43m,\u001b[49m\u001b[43m \u001b[49m\u001b[43m{\u001b[49m\u001b[38;5;124;43m\"\u001b[39;49m\u001b[38;5;124;43musing\u001b[39;49m\u001b[38;5;124;43m\"\u001b[39;49m\u001b[43m:\u001b[49m\u001b[43m \u001b[49m\u001b[43mby\u001b[49m\u001b[43m,\u001b[49m\u001b[43m \u001b[49m\u001b[38;5;124;43m\"\u001b[39;49m\u001b[38;5;124;43mvalue\u001b[39;49m\u001b[38;5;124;43m\"\u001b[39;49m\u001b[43m:\u001b[49m\u001b[43m \u001b[49m\u001b[43mvalue\u001b[49m\u001b[43m}\u001b[49m\u001b[43m)\u001b[49m[\u001b[38;5;124m\"\u001b[39m\u001b[38;5;124mvalue\u001b[39m\u001b[38;5;124m\"\u001b[39m]\n",
      "File \u001b[1;32md:\\software\\anaconda\\envs\\poly_and_kalshi\\lib\\site-packages\\selenium\\webdriver\\remote\\webdriver.py:380\u001b[0m, in \u001b[0;36mWebDriver.execute\u001b[1;34m(self, driver_command, params)\u001b[0m\n\u001b[0;32m    378\u001b[0m response \u001b[38;5;241m=\u001b[39m \u001b[38;5;28mself\u001b[39m\u001b[38;5;241m.\u001b[39mcommand_executor\u001b[38;5;241m.\u001b[39mexecute(driver_command, params)\n\u001b[0;32m    379\u001b[0m \u001b[38;5;28;01mif\u001b[39;00m response:\n\u001b[1;32m--> 380\u001b[0m     \u001b[38;5;28;43mself\u001b[39;49m\u001b[38;5;241;43m.\u001b[39;49m\u001b[43merror_handler\u001b[49m\u001b[38;5;241;43m.\u001b[39;49m\u001b[43mcheck_response\u001b[49m\u001b[43m(\u001b[49m\u001b[43mresponse\u001b[49m\u001b[43m)\u001b[49m\n\u001b[0;32m    381\u001b[0m     response[\u001b[38;5;124m\"\u001b[39m\u001b[38;5;124mvalue\u001b[39m\u001b[38;5;124m\"\u001b[39m] \u001b[38;5;241m=\u001b[39m \u001b[38;5;28mself\u001b[39m\u001b[38;5;241m.\u001b[39m_unwrap_value(response\u001b[38;5;241m.\u001b[39mget(\u001b[38;5;124m\"\u001b[39m\u001b[38;5;124mvalue\u001b[39m\u001b[38;5;124m\"\u001b[39m, \u001b[38;5;28;01mNone\u001b[39;00m))\n\u001b[0;32m    382\u001b[0m     \u001b[38;5;28;01mreturn\u001b[39;00m response\n",
      "File \u001b[1;32md:\\software\\anaconda\\envs\\poly_and_kalshi\\lib\\site-packages\\selenium\\webdriver\\remote\\errorhandler.py:229\u001b[0m, in \u001b[0;36mErrorHandler.check_response\u001b[1;34m(self, response)\u001b[0m\n\u001b[0;32m    227\u001b[0m         alert_text \u001b[38;5;241m=\u001b[39m value[\u001b[38;5;124m\"\u001b[39m\u001b[38;5;124malert\u001b[39m\u001b[38;5;124m\"\u001b[39m]\u001b[38;5;241m.\u001b[39mget(\u001b[38;5;124m\"\u001b[39m\u001b[38;5;124mtext\u001b[39m\u001b[38;5;124m\"\u001b[39m)\n\u001b[0;32m    228\u001b[0m     \u001b[38;5;28;01mraise\u001b[39;00m exception_class(message, screen, stacktrace, alert_text)  \u001b[38;5;66;03m# type: ignore[call-arg]  # mypy is not smart enough here\u001b[39;00m\n\u001b[1;32m--> 229\u001b[0m \u001b[38;5;28;01mraise\u001b[39;00m exception_class(message, screen, stacktrace)\n",
      "\u001b[1;31mNoSuchElementException\u001b[0m: Message: no such element: Unable to locate element: {\"method\":\"xpath\",\"selector\":\"//*[@id=\"markets-grid-container\"]/div[21]/div[1]/div[2]/a/p\"}\n  (Session info: chrome=130.0.6723.117); For documentation on this error, please visit: https://www.selenium.dev/documentation/webdriver/troubleshooting/errors#no-such-element-exception\nStacktrace:\n\tGetHandleVerifier [0x006AEBD3+24307]\n\t(No symbol) [0x00638D74]\n\t(No symbol) [0x0051C323]\n\t(No symbol) [0x0055DC86]\n\t(No symbol) [0x0055DECB]\n\t(No symbol) [0x0059B9F2]\n\t(No symbol) [0x0057FED4]\n\t(No symbol) [0x00599579]\n\t(No symbol) [0x0057FC26]\n\t(No symbol) [0x0055219C]\n\t(No symbol) [0x0055311D]\n\tGetHandleVerifier [0x00958D93+2818227]\n\tGetHandleVerifier [0x009B542E+3196750]\n\tGetHandleVerifier [0x009AD9D2+3165426]\n\tGetHandleVerifier [0x0074DA70+675216]\n\t(No symbol) [0x00641B3D]\n\t(No symbol) [0x0063EA18]\n\t(No symbol) [0x0063EBB5]\n\t(No symbol) [0x00631640]\n\tBaseThreadInitThunk [0x76CA7BA9+25]\n\tRtlInitializeExceptionChain [0x77C4C0CB+107]\n\tRtlClearBits [0x77C4C04F+191]\n"
     ]
    }
   ],
   "source": [
    "for i in range(1,100):\n",
    "    que = driver.find_element(By.XPATH, f'//*[@id=\"markets-grid-container\"]/div[{i}]/div[1]/div[2]/a/p').text\n",
    "    print(i,que)"
   ]
  },
  {
   "cell_type": "code",
   "execution_count": 35,
   "metadata": {},
   "outputs": [],
   "source": [
    "# 获取点击按钮\n",
    "button = driver.find_element(By.XPATH, '//*[@id=\"markets-grid-container\"]/div[1]/div[1]/div[2]/a/p')\n",
    "button.click()"
   ]
  },
  {
   "cell_type": "code",
   "execution_count": null,
   "metadata": {},
   "outputs": [],
   "source": [
    "\n",
    "\n"
   ]
  }
 ],
 "metadata": {
  "kernelspec": {
   "display_name": "poly_and_kalshi",
   "language": "python",
   "name": "python3"
  },
  "language_info": {
   "codemirror_mode": {
    "name": "ipython",
    "version": 3
   },
   "file_extension": ".py",
   "mimetype": "text/x-python",
   "name": "python",
   "nbconvert_exporter": "python",
   "pygments_lexer": "ipython3",
   "version": "3.9.20"
  }
 },
 "nbformat": 4,
 "nbformat_minor": 2
}
