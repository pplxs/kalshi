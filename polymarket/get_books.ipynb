{
 "cells": [
  {
   "cell_type": "code",
   "execution_count": 1,
   "metadata": {},
   "outputs": [],
   "source": [
    "import csv\n",
    "import json\n",
    "import os\n",
    "from py_clob_client.client import ClobClient,BookParams\n",
    "from py_clob_client.constants import POLYGON\n",
    "from dotenv import load_dotenv"
   ]
  },
  {
   "cell_type": "code",
   "execution_count": 11,
   "metadata": {},
   "outputs": [],
   "source": [
    "load_dotenv('keys.env')\n",
    "host = \"https://clob.polymarket.com\"\n",
    "key = os.getenv(\"api_passphrase\")\n",
    "chain_id = POLYGON\n",
    "\n",
    "# Create CLOB client and get/set API credentials\n",
    "client = ClobClient(host, key=key, chain_id=chain_id)"
   ]
  },
  {
   "cell_type": "code",
   "execution_count": 12,
   "metadata": {},
   "outputs": [
    {
     "data": {
      "text/plain": [
       "[OrderBookSummary(market='0xc9245f04f26a1cbe765e5b80868f113c0da34319895075f6de57db3cde097609', asset_id='19976948800405958591061880855305209131435655494528248143422172153272196706390', timestamp='1731637916000', bids=[OrderSummary(price='0.01', size='211'), OrderSummary(price='0.02', size='88'), OrderSummary(price='0.03', size='167'), OrderSummary(price='0.05', size='5575'), OrderSummary(price='0.11', size='55'), OrderSummary(price='0.12', size='222'), OrderSummary(price='0.16', size='222'), OrderSummary(price='0.2', size='2222'), OrderSummary(price='0.21', size='333'), OrderSummary(price='0.22', size='333'), OrderSummary(price='0.23', size='244'), OrderSummary(price='0.28', size='222'), OrderSummary(price='0.32', size='55'), OrderSummary(price='0.36', size='20'), OrderSummary(price='0.4', size='10'), OrderSummary(price='0.61', size='909.33'), OrderSummary(price='0.943', size='100'), OrderSummary(price='0.956', size='100'), OrderSummary(price='0.96', size='6550.46'), OrderSummary(price='0.961', size='350'), OrderSummary(price='0.966', size='25000'), OrderSummary(price='0.97', size='350'), OrderSummary(price='0.971', size='3441.06'), OrderSummary(price='0.972', size='165.78')], asks=[OrderSummary(price='0.999', size='42489.54'), OrderSummary(price='0.998', size='55447.01'), OrderSummary(price='0.997', size='1760.22'), OrderSummary(price='0.996', size='102'), OrderSummary(price='0.995', size='11'), OrderSummary(price='0.991', size='1333.33'), OrderSummary(price='0.99', size='14180'), OrderSummary(price='0.988', size='2000'), OrderSummary(price='0.985', size='24986.3'), OrderSummary(price='0.984', size='36.09'), OrderSummary(price='0.983', size='12'), OrderSummary(price='0.982', size='350'), OrderSummary(price='0.98', size='12303.72'), OrderSummary(price='0.978', size='2338.94'), OrderSummary(price='0.977', size='84.22')], hash='1ba5b4466cd299fc3f774fe60cd231e554b38514'),\n",
       " OrderBookSummary(market='0xc9245f04f26a1cbe765e5b80868f113c0da34319895075f6de57db3cde097609', asset_id='46823833372591508611897557481248187397677242522904660691513695148079428927640', timestamp='1731637916000', bids=[OrderSummary(price='0.001', size='42489.54'), OrderSummary(price='0.002', size='55447.01'), OrderSummary(price='0.003', size='1760.22'), OrderSummary(price='0.004', size='102'), OrderSummary(price='0.005', size='11'), OrderSummary(price='0.009', size='1333.33'), OrderSummary(price='0.01', size='14180'), OrderSummary(price='0.012', size='2000'), OrderSummary(price='0.015', size='24986.3'), OrderSummary(price='0.016', size='36.09'), OrderSummary(price='0.017', size='12'), OrderSummary(price='0.018', size='350'), OrderSummary(price='0.02', size='12303.72'), OrderSummary(price='0.022', size='2338.94'), OrderSummary(price='0.023', size='84.22')], asks=[OrderSummary(price='0.99', size='211'), OrderSummary(price='0.98', size='88'), OrderSummary(price='0.97', size='167'), OrderSummary(price='0.95', size='5575'), OrderSummary(price='0.89', size='55'), OrderSummary(price='0.88', size='222'), OrderSummary(price='0.84', size='222'), OrderSummary(price='0.8', size='2222'), OrderSummary(price='0.79', size='333'), OrderSummary(price='0.78', size='333'), OrderSummary(price='0.77', size='244'), OrderSummary(price='0.72', size='222'), OrderSummary(price='0.68', size='55'), OrderSummary(price='0.64', size='20'), OrderSummary(price='0.6', size='10'), OrderSummary(price='0.39', size='909.33'), OrderSummary(price='0.057', size='100'), OrderSummary(price='0.044', size='100'), OrderSummary(price='0.04', size='6550.46'), OrderSummary(price='0.039', size='350'), OrderSummary(price='0.034', size='25000'), OrderSummary(price='0.03', size='350'), OrderSummary(price='0.029', size='3441.06'), OrderSummary(price='0.028', size='165.78')], hash='389e55d06f36015d5d41e2f9b21afaffa6722905')]"
      ]
     },
     "execution_count": 12,
     "metadata": {},
     "output_type": "execute_result"
    }
   ],
   "source": [
    "client.get_order_books(\n",
    "        params=[\n",
    "            BookParams(\n",
    "                token_id=\"19976948800405958591061880855305209131435655494528248143422172153272196706390\"\n",
    "            ),\n",
    "            BookParams(\n",
    "                token_id=\"46823833372591508611897557481248187397677242522904660691513695148079428927640\"\n",
    "            ),\n",
    "        ]\n",
    "    )"
   ]
  },
  {
   "cell_type": "code",
   "execution_count": 4,
   "metadata": {},
   "outputs": [],
   "source": [
    "# resp = client.get_market(condition_id = \"0x9deb0baac40648821f96f01339229a422e2f5c877de55dc4dbf981f95a1e709c\")\n",
    "# resp"
   ]
  },
  {
   "cell_type": "code",
   "execution_count": null,
   "metadata": {},
   "outputs": [],
   "source": []
  },
  {
   "cell_type": "code",
   "execution_count": null,
   "metadata": {},
   "outputs": [],
   "source": []
  },
  {
   "cell_type": "code",
   "execution_count": null,
   "metadata": {},
   "outputs": [],
   "source": []
  }
 ],
 "metadata": {
  "kernelspec": {
   "display_name": "poly_and_kalshi",
   "language": "python",
   "name": "python3"
  },
  "language_info": {
   "codemirror_mode": {
    "name": "ipython",
    "version": 3
   },
   "file_extension": ".py",
   "mimetype": "text/x-python",
   "name": "python",
   "nbconvert_exporter": "python",
   "pygments_lexer": "ipython3",
   "version": "3.9.20"
  }
 },
 "nbformat": 4,
 "nbformat_minor": 2
}
