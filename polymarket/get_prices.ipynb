{
 "cells": [
  {
   "cell_type": "code",
   "execution_count": 2,
   "metadata": {},
   "outputs": [],
   "source": [
    "import csv\n",
    "import json\n",
    "import os\n",
    "from py_clob_client.client import ClobClient,BookParams\n",
    "from py_clob_client.constants import POLYGON\n",
    "from dotenv import load_dotenv"
   ]
  },
  {
   "cell_type": "code",
   "execution_count": 8,
   "metadata": {},
   "outputs": [],
   "source": [
    "load_dotenv('keys.env')\n",
    "host = \"https://clob.polymarket.com/prices-history\"\n",
    "key = os.getenv(\"api_passphrase\")\n",
    "chain_id = POLYGON\n",
    "\n",
    "# Create CLOB client and get/set API credentials\n",
    "client = ClobClient(host, key=key, chain_id=chain_id)"
   ]
  },
  {
   "cell_type": "code",
   "execution_count": 12,
   "metadata": {},
   "outputs": [],
   "source": [
    "# resp = client.get_price(\n",
    "#         \"19976948800405958591061880855305209131435655494528248143422172153272196706390\",\n",
    "#         \"BUY\",\n",
    "#     )"
   ]
  },
  {
   "cell_type": "code",
   "execution_count": null,
   "metadata": {},
   "outputs": [],
   "source": []
  },
  {
   "cell_type": "code",
   "execution_count": 15,
   "metadata": {},
   "outputs": [
    {
     "name": "stdout",
     "output_type": "stream",
     "text": [
      "{'history': [{'t': 1673136004, 'p': 0.5}, {'t': 1677024019, 'p': 0.5}, {'t': 1677110435, 'p': 0.5}, {'t': 1677196826, 'p': 0.5}, {'t': 1677283205, 'p': 0.5}, {'t': 1677369629, 'p': 0.5}, {'t': 1677456026, 'p': 0.5}, {'t': 1677542403, 'p': 0.5}, {'t': 1677628818, 'p': 0.5}, {'t': 1677715226, 'p': 0.5}, {'t': 1677801631, 'p': 0.5}, {'t': 1677888015, 'p': 0.5}, {'t': 1677974451, 'p': 0.5}, {'t': 1678060814, 'p': 0.5}, {'t': 1678147205, 'p': 0.5}, {'t': 1678233650, 'p': 0.5}, {'t': 1678320032, 'p': 0.5}, {'t': 1678406435, 'p': 0.5}, {'t': 1678492854, 'p': 0.5}, {'t': 1678579254, 'p': 0.5}, {'t': 1678752049, 'p': 0.5}, {'t': 1678838425, 'p': 0.5}, {'t': 1678924806, 'p': 0.5}, {'t': 1679011203, 'p': 0.5}, {'t': 1679097645, 'p': 0.5}, {'t': 1679184022, 'p': 0.5}, {'t': 1679270430, 'p': 0.5}, {'t': 1679356835, 'p': 0.5}, {'t': 1679529639, 'p': 0.5}, {'t': 1679616048, 'p': 0.5}, {'t': 1679702422, 'p': 0.5}, {'t': 1679788806, 'p': 0.5}, {'t': 1679875245, 'p': 0.5}, {'t': 1679961619, 'p': 0.5}, {'t': 1680048049, 'p': 0.5}, {'t': 1680134416, 'p': 0.5}, {'t': 1680220817, 'p': 0.5}, {'t': 1680307248, 'p': 0.5}, {'t': 1680393652, 'p': 0.5}, {'t': 1680480000, 'p': 0.5}, {'t': 1680566435, 'p': 0.5}, {'t': 1680652824, 'p': 0.5}, {'t': 1680912008, 'p': 0.5}, {'t': 1680998448, 'p': 0.5}, {'t': 1681084831, 'p': 0.5}, {'t': 1681171229, 'p': 0.5}, {'t': 1681257603, 'p': 0.5}, {'t': 1681344022, 'p': 0.5}, {'t': 1681430430, 'p': 0.5}, {'t': 1681516826, 'p': 0.5}, {'t': 1681603245, 'p': 0.5}, {'t': 1681689623, 'p': 0.5}, {'t': 1681776027, 'p': 0.5}, {'t': 1681862423, 'p': 0.5}, {'t': 1681948846, 'p': 0.5}, {'t': 1682035240, 'p': 0.5}, {'t': 1682121624, 'p': 0.5}, {'t': 1682208024, 'p': 0.5}, {'t': 1682294406, 'p': 0.5}, {'t': 1682380830, 'p': 0.5}, {'t': 1682467254, 'p': 0.5}, {'t': 1682553653, 'p': 0.5}, {'t': 1682640034, 'p': 0.5}, {'t': 1682812813, 'p': 0.5}, {'t': 1682899219, 'p': 0.5}, {'t': 1682985647, 'p': 0.5}, {'t': 1683158454, 'p': 0.5}, {'t': 1683244804, 'p': 0.5}, {'t': 1683331212, 'p': 0.5}, {'t': 1683417624, 'p': 0.5}, {'t': 1683504041, 'p': 0.5}, {'t': 1683590408, 'p': 0.5}, {'t': 1683676845, 'p': 0.5}, {'t': 1683763236, 'p': 0.5}, {'t': 1683849654, 'p': 0.5}, {'t': 1683936042, 'p': 0.5}, {'t': 1684108802, 'p': 0.5}, {'t': 1684195223, 'p': 0.5}, {'t': 1684281623, 'p': 0.5}]}\n"
     ]
    }
   ],
   "source": [
    "import requests\n",
    "\n",
    "# Polymarket的CLOB端点URL，您需要替换为实际的URL\n",
    "clob_endpoint = \"https://clob.polymarket.com\"\n",
    "\n",
    "# 查询参数\n",
    "params = {\n",
    "    \"market\": 14270523446080509320829200481895961480205553513304203367521919818541658424782,  # 替换为实际的CLOB token id\n",
    "    \"interval\": \"max\",  # 获取最近一周的价格历史\n",
    "    \"fidelity\": 60*24  # 数据分辨率，单位为分钟\n",
    "}\n",
    "\n",
    "# 构建请求URL\n",
    "url = f\"{clob_endpoint}/prices-history\"\n",
    "\n",
    "try:\n",
    "    # 发送GET请求\n",
    "    response = requests.get(url, params=params)\n",
    "    response.raise_for_status()  # 如果响应状态码不是200，将抛出异常\n",
    "    # 解析响应数据\n",
    "    prices_history = response.json()\n",
    "    print(prices_history)\n",
    "except requests.RequestException as e:\n",
    "    print(f\"请求错误：{e}\")"
   ]
  },
  {
   "cell_type": "code",
   "execution_count": 27,
   "metadata": {},
   "outputs": [],
   "source": [
    "from datetime import datetime\n",
    "import pandas as pd"
   ]
  },
  {
   "cell_type": "code",
   "execution_count": 26,
   "metadata": {},
   "outputs": [
    {
     "data": {
      "text/plain": [
       "'2023-01-08 08:00:04'"
      ]
     },
     "execution_count": 26,
     "metadata": {},
     "output_type": "execute_result"
    }
   ],
   "source": [
    "# 将Unix时间戳转换为datetime对象\n",
    "dt_object = datetime.fromtimestamp(1673136004)\n",
    "# 格式化datetime对象为字符串\n",
    "formatted_date = dt_object.strftime('%Y-%m-%d %H:%M:%S')\n",
    "formatted_date"
   ]
  },
  {
   "cell_type": "code",
   "execution_count": 28,
   "metadata": {},
   "outputs": [
    {
     "data": {
      "text/html": [
       "<div>\n",
       "<style scoped>\n",
       "    .dataframe tbody tr th:only-of-type {\n",
       "        vertical-align: middle;\n",
       "    }\n",
       "\n",
       "    .dataframe tbody tr th {\n",
       "        vertical-align: top;\n",
       "    }\n",
       "\n",
       "    .dataframe thead th {\n",
       "        text-align: right;\n",
       "    }\n",
       "</style>\n",
       "<table border=\"1\" class=\"dataframe\">\n",
       "  <thead>\n",
       "    <tr style=\"text-align: right;\">\n",
       "      <th></th>\n",
       "      <th>t</th>\n",
       "      <th>p</th>\n",
       "    </tr>\n",
       "  </thead>\n",
       "  <tbody>\n",
       "    <tr>\n",
       "      <th>0</th>\n",
       "      <td>1673136004</td>\n",
       "      <td>0.5</td>\n",
       "    </tr>\n",
       "    <tr>\n",
       "      <th>1</th>\n",
       "      <td>1677024019</td>\n",
       "      <td>0.5</td>\n",
       "    </tr>\n",
       "    <tr>\n",
       "      <th>2</th>\n",
       "      <td>1677110435</td>\n",
       "      <td>0.5</td>\n",
       "    </tr>\n",
       "    <tr>\n",
       "      <th>3</th>\n",
       "      <td>1677196826</td>\n",
       "      <td>0.5</td>\n",
       "    </tr>\n",
       "    <tr>\n",
       "      <th>4</th>\n",
       "      <td>1677283205</td>\n",
       "      <td>0.5</td>\n",
       "    </tr>\n",
       "    <tr>\n",
       "      <th>...</th>\n",
       "      <td>...</td>\n",
       "      <td>...</td>\n",
       "    </tr>\n",
       "    <tr>\n",
       "      <th>74</th>\n",
       "      <td>1683849654</td>\n",
       "      <td>0.5</td>\n",
       "    </tr>\n",
       "    <tr>\n",
       "      <th>75</th>\n",
       "      <td>1683936042</td>\n",
       "      <td>0.5</td>\n",
       "    </tr>\n",
       "    <tr>\n",
       "      <th>76</th>\n",
       "      <td>1684108802</td>\n",
       "      <td>0.5</td>\n",
       "    </tr>\n",
       "    <tr>\n",
       "      <th>77</th>\n",
       "      <td>1684195223</td>\n",
       "      <td>0.5</td>\n",
       "    </tr>\n",
       "    <tr>\n",
       "      <th>78</th>\n",
       "      <td>1684281623</td>\n",
       "      <td>0.5</td>\n",
       "    </tr>\n",
       "  </tbody>\n",
       "</table>\n",
       "<p>79 rows × 2 columns</p>\n",
       "</div>"
      ],
      "text/plain": [
       "             t    p\n",
       "0   1673136004  0.5\n",
       "1   1677024019  0.5\n",
       "2   1677110435  0.5\n",
       "3   1677196826  0.5\n",
       "4   1677283205  0.5\n",
       "..         ...  ...\n",
       "74  1683849654  0.5\n",
       "75  1683936042  0.5\n",
       "76  1684108802  0.5\n",
       "77  1684195223  0.5\n",
       "78  1684281623  0.5\n",
       "\n",
       "[79 rows x 2 columns]"
      ]
     },
     "execution_count": 28,
     "metadata": {},
     "output_type": "execute_result"
    }
   ],
   "source": [
    "pd.DataFrame(prices_history['history'])"
   ]
  },
  {
   "cell_type": "code",
   "execution_count": null,
   "metadata": {},
   "outputs": [],
   "source": []
  }
 ],
 "metadata": {
  "kernelspec": {
   "display_name": "poly_and_kalshi",
   "language": "python",
   "name": "python3"
  },
  "language_info": {
   "codemirror_mode": {
    "name": "ipython",
    "version": 3
   },
   "file_extension": ".py",
   "mimetype": "text/x-python",
   "name": "python",
   "nbconvert_exporter": "python",
   "pygments_lexer": "ipython3",
   "version": "3.9.20"
  }
 },
 "nbformat": 4,
 "nbformat_minor": 2
}
